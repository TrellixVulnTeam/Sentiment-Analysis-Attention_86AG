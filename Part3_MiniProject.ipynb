{
 "cells": [
  {
   "cell_type": "markdown",
   "metadata": {},
   "source": [
    "$$\n",
    "\\newcommand{\\mat}[1]{\\boldsymbol {#1}}\n",
    "\\newcommand{\\mattr}[1]{\\boldsymbol {#1}^\\top}\n",
    "\\newcommand{\\matinv}[1]{\\boldsymbol {#1}^{-1}}\n",
    "\\newcommand{\\vec}[1]{\\boldsymbol {#1}}\n",
    "\\newcommand{\\vectr}[1]{\\boldsymbol {#1}^\\top}\n",
    "\\newcommand{\\rvar}[1]{\\mathrm {#1}}\n",
    "\\newcommand{\\rvec}[1]{\\boldsymbol{\\mathrm{#1}}}\n",
    "\\newcommand{\\diag}{\\mathop{\\mathrm {diag}}}\n",
    "\\newcommand{\\set}[1]{\\mathbb {#1}}\n",
    "\\newcommand{\\cset}[1]{\\mathcal{#1}}\n",
    "\\newcommand{\\norm}[1]{\\left\\lVert#1\\right\\rVert}\n",
    "\\newcommand{\\pderiv}[2]{\\frac{\\partial #1}{\\partial #2}}\n",
    "\\newcommand{\\bb}[1]{\\boldsymbol{#1}}\n",
    "\\newcommand{\\E}[2][]{\\mathbb{E}_{#1}\\left[#2\\right]}\n",
    "\\newcommand{\\ip}[3]{\\left<#1,#2\\right>_{#3}}\n",
    "\\newcommand{\\given}[]{\\,\\middle\\vert\\,}\n",
    "\\newcommand{\\DKL}[2]{\\cset{D}_{\\text{KL}}\\left(#1\\,\\Vert\\, #2\\right)}\n",
    "\\newcommand{\\grad}[]{\\nabla}\n",
    "$$\n",
    "\n",
    "# Part 3: Mini-Project\n",
    "<a id=part3></a>"
   ]
  },
  {
   "cell_type": "markdown",
   "metadata": {},
   "source": [
    "In this part you'll implement a small comparative-analysis project, heavily based on the materials from the tutorials and homework.\n",
    "\n",
    "You must **choose one** of the project options specified below."
   ]
  },
  {
   "cell_type": "markdown",
   "metadata": {},
   "source": [
    "### Guidelines"
   ]
  },
  {
   "cell_type": "markdown",
   "metadata": {},
   "source": [
    "- You should implement the code which displays your results in this notebook, and add any additional code files for your implementation in the `project/` directory. You can import these files here, as we do for the homeworks.\n",
    "- Running this notebook should not perform any training - load your results from some output files and display them here. The notebook must be runnable from start to end without errors.\n",
    "- You must include a detailed write-up (in the notebook) of what you implemented and how. \n",
    "- Explain the structure of your code and how to run it to reproduce your results.\n",
    "- Explicitly state any external code you used, including built-in pytorch models and code from the course tutorials/homework.\n",
    "- Analyze your numerical results, explaining **why** you got these results (not just specifying the results).\n",
    "- Where relevant, place all results in a table or display them using a graph.\n",
    "- Before submitting, make sure all files which are required to run this notebook are included in the generated submission zip.\n",
    "- Try to keep the submission file size under 10MB. Do not include model checkpoint files, dataset files, or any other non-essentials files. Instead include your results as images/text files/pickles/etc, and load them for display in this notebook. "
   ]
  },
  {
   "cell_type": "markdown",
   "metadata": {},
   "source": [
    "## Sentiment Analysis with Self-Attention and Word Embeddings"
   ]
  },
  {
   "cell_type": "markdown",
   "metadata": {},
   "source": [
    "Based on Tutorials 6 and 7, we'll implement and train an improved sentiment analysis model.\n",
    "We'll use self-attention instead of RNNs and incorporate pre-trained word embeddings.\n",
    "\n",
    "In tutorial 6 we saw that we can train word embeddings together with the model.\n",
    "Although this produces embeddings which are customized to the specific task at hand,\n",
    "it also greatly increases training time.\n",
    "A common technique is to use pre-trained word embeddings.\n",
    "This is essentially a large mapping from words (e.g. in english) to some\n",
    "high-dimensional vector, such that semantically similar words have an embedding that is\n",
    "\"close\" by some metric (e.g. cosine distance).\n",
    "Use the [GloVe](https://nlp.stanford.edu/projects/glove/) 6B embeddings for this purpose.\n",
    "You can load these vectors into the weights of an `nn.Embedding` layer.\n",
    "\n",
    "In tutorial 7 we learned how attention can be used to learn to predict a relative importance\n",
    "for each element in a sequence, compared to the other elements.\n",
    "Here, we'll replace the RNN with self-attention only approach similar to Transformer models, roughly based on [this paper](https://www.aclweb.org/anthology/W18-6219.pdf).\n",
    "After embedding each word in the sentence using the pre-trained word-embedding a positional-encoding vector is added to provide each word in the sentence a unique value based on it's location.\n",
    "One or more self-attention layers are then applied to the results, to obtain an importance weighting for each word.\n",
    "Then we classify the sentence based on the average these weighted encodings.\n",
    "\n",
    "\n",
    "Now, using these approaches, you need to:\n",
    "\n",
    "- Implement a **baseline** model: Use pre-trained embeddings with an RNN-based model.\n",
    "You can use LSTM/GRU or bi-directional versions of these, in a way very similar to what we implemented in the tutorial.\n",
    "-  Implement an **improved** model: Based on the self-attention approach, implement an attention-based sentiment analysis model that has 1-2 self-attention layers instead of an RNN. You should use the same pre-trained word embeddings for this model.\n",
    "- You can use pytorch's built-in RNNs, attention layers, etc.\n",
    "- For positional encoding you can use the sinosoidal approach described in the paper (first proposed [here](https://arxiv.org/pdf/1706.03762.pdf)). You can use existing online implementations (even though it's straightforward to implement). \n",
    "- You can use the SST database as shown in the tutorial.\n",
    "\n",
    "Your results should include:\n",
    "- Everything written in the **Guidelines** above.\n",
    "- A comparative analysis: compare the baseline to the improved model. Compare in terms of overall classification accuracy and show a multiclass confusion matrix.\n",
    "- Visualize of the attention maps for a few movie reviews from each class, and explain the results."
   ]
  },
  {
   "cell_type": "code",
   "execution_count": 1,
   "metadata": {},
   "outputs": [
    {
     "name": "stdout",
     "output_type": "stream",
     "text": [
      "Requirement already satisfied: torchsummary in /home/moshekimhi/miniconda3/envs/cs236781-hw/lib/python3.8/site-packages (1.5.1)\n"
     ]
    },
    {
     "data": {
      "text/plain": [
       "device(type='cuda')"
      ]
     },
     "execution_count": 1,
     "metadata": {},
     "output_type": "execute_result"
    }
   ],
   "source": [
    "# Setup\n",
    "%matplotlib inline\n",
    "!pip install torchsummary\n",
    "from torchsummary import summary\n",
    "\n",
    "import os\n",
    "import sys\n",
    "import time\n",
    "import torch\n",
    "import matplotlib.pyplot as plt\n",
    "import warnings\n",
    "import torch.nn as nn\n",
    "import numpy as np\n",
    "warnings.simplefilter(\"ignore\")\n",
    "plt.rcParams['font.size'] = 20\n",
    "data_dir = os.path.expanduser('~/.pytorch-datasets')\n",
    "device = torch.device('cuda' if torch.cuda.is_available() else 'cpu')\n",
    "device"
   ]
  },
  {
   "cell_type": "markdown",
   "metadata": {},
   "source": [
    "**Dataset**<br/>\n",
    "We would like to test a recurrent model over varios datasets.<br/>\n",
    "We use torchtext package to load SST dataset (3 classes, like recitation and 5 classes, like the paper linked above).<br/>\n",
    "We decided to use bucket iterator, as presented in the recitation, since it minimize pad tokens and popular in NLP projects."
   ]
  },
  {
   "cell_type": "code",
   "execution_count": 2,
   "metadata": {},
   "outputs": [],
   "source": [
    "import torchtext.data\n",
    "from torchtext.vocab import Vectors, GloVe\n",
    "import torchtext.datasets\n",
    "BATCH_SIZE = 32\n",
    "\n",
    "def load_dataset(name='SST', classes=3):\n",
    "    review_parser = torchtext.data.Field(\n",
    "        sequential=True, use_vocab=True, lower=True,\n",
    "        init_token='<sos>', eos_token='<eos>', dtype=torch.long,\n",
    "        tokenize='spacy', tokenizer_language='en_core_web_sm')\n",
    "    # This Field object converts the text labels into numeric values (0,1,2)\n",
    "    label_parser = torchtext.data.Field(\n",
    "        is_target=True, sequential=False, unk_token=None, use_vocab=True\n",
    "    )\n",
    "\n",
    "    if name=='SST':\n",
    "        fine_grained = False\n",
    "        if classes==5:\n",
    "            fine_grained = True\n",
    "            \n",
    "        #3 classes SST\n",
    "        ds_train, ds_valid, ds_test = torchtext.datasets.SST.splits(\n",
    "            review_parser, label_parser, root=data_dir,fine_grained=fine_grained)\n",
    "\n",
    "        print(f'Number of training samples: {len(ds_train)}')\n",
    "        print(f'Number of test     samples: {len(ds_test)}')\n",
    "    #build the vocabulary:\n",
    "    review_parser.build_vocab(ds_train,vectors=GloVe(name='6B', dim=300))\n",
    "    label_parser.build_vocab(ds_train)\n",
    "    word_embeddings = review_parser.vocab.vectors\n",
    "    word_embeddings = word_embeddings.to(device=device)\n",
    "        \n",
    "        \n",
    "    # BucketIterator creates batches with samples of similar length\n",
    "    # to minimize the number of <pad> tokens in the batch.\n",
    "    dl_train, dl_valid, dl_test = torchtext.data.BucketIterator.splits((ds_train, ds_valid, ds_test), batch_size=BATCH_SIZE,shuffle=True, device=device)\n",
    "    train_iter, valid_iter, test_iter = torchtext.data.BucketIterator.splits((ds_train, ds_valid, ds_test), batch_size=BATCH_SIZE, sort_key=lambda x: len(x.text), repeat=False, shuffle=True)\n",
    "    return word_embeddings,train_iter, valid_iter, test_iter"
   ]
  },
  {
   "cell_type": "code",
   "execution_count": 3,
   "metadata": {},
   "outputs": [
    {
     "name": "stdout",
     "output_type": "stream",
     "text": [
      "Number of training samples: 8544\n",
      "Number of test     samples: 2210\n",
      "Number of training samples: 8544\n",
      "Number of test     samples: 2210\n"
     ]
    }
   ],
   "source": [
    "word_embeddings,train_iter, valid_iter, test_iter = load_dataset(name='SST', classes=3)\n",
    "word_embeddings_5,train_iter_5, valid_iter_5, test_iter_5 = load_dataset(name='SST', classes=5)"
   ]
  },
  {
   "cell_type": "markdown",
   "metadata": {},
   "source": [
    "## Baseline Model:\n",
    "For the implementation of the sentiment analysis basic model, we used bidirectional GRU,<br/>\n",
    "the reason we chose it is to avoid the vanishing gradients problem that accure when one might use a simple RNN.<br/>\n",
    "\n",
    "Lets load the model and show the architecture summary. note that all architectures of network are implemented in the project directory.<br/>\n",
    "The hyper-parameters were tuned using a grid search in the notebook Hype_Parameters.ipynb (batch size, hidden dim, num of layers and lr).<br/>\n",
    "Embedding dimension is predefined by GloVe model, the input dimension is dependant of the dataset as well as the output dimension."
   ]
  },
  {
   "cell_type": "code",
   "execution_count": 4,
   "metadata": {},
   "outputs": [
    {
     "data": {
      "text/plain": [
       "torch.Size([46, 32])"
      ]
     },
     "execution_count": 4,
     "metadata": {},
     "output_type": "execute_result"
    }
   ],
   "source": [
    "batch = next(iter(train_iter))\n",
    "X, y = batch.text, batch.label\n",
    "X.shape"
   ]
  },
  {
   "cell_type": "code",
   "execution_count": 5,
   "metadata": {},
   "outputs": [
    {
     "name": "stdout",
     "output_type": "stream",
     "text": [
      "Baseline model (3-classes):SentimentAnalyzer(\n",
      "  (embd): Embedding(15482, 300)\n",
      "  (rnn): GRU(300, 16, dropout=0.3, bidirectional=True)\n",
      "  (sentiment): Linear(in_features=32, out_features=3, bias=True)\n",
      "  (DO): Dropout(p=0.3, inplace=False)\n",
      "  (log_softmax): LogSoftmax(dim=1)\n",
      ")\n"
     ]
    }
   ],
   "source": [
    "from project.Analyzer import SentimentAnalyzer\n",
    "from project.Attention import AttentionAnalyzer\n",
    "\n",
    "VOC_DIM = word_embeddings.shape[0]\n",
    "EMBEDDING_DIM = 300\n",
    "HIDDEN_DIM = 16 #\n",
    "OUTPUT_DIM = 3,5 #5\n",
    "NUM_LAYERS = 1\n",
    "#We WILL instantiate two models, one for the fine grained dataset and one for the 3-classes dataset\n",
    "model3 = SentimentAnalyzer(VOC_DIM, EMBEDDING_DIM, HIDDEN_DIM, OUTPUT_DIM[0], word_embeddings, layers=NUM_LAYERS,dropout=0.3).to(device)\n",
    "model5 = SentimentAnalyzer(VOC_DIM, EMBEDDING_DIM, HIDDEN_DIM*4, OUTPUT_DIM[1], word_embeddings_5, layers=NUM_LAYERS*2,dropout=0.3).to(device)\n",
    "\n",
    "print(f\"Baseline model (3-classes):{model3}\")"
   ]
  },
  {
   "cell_type": "markdown",
   "metadata": {},
   "source": [
    "The model contain pre-trained embedding, bidirectional GRU as RNN, then a FC layer from the hidden dimantion to the output, and a  log softmax layer for logits (so we can use NLLL loss later on).<br/>\n",
    "We also used Dropout in the GRE and in the FC to avoid some of the overfitting.<br/>"
   ]
  },
  {
   "cell_type": "code",
   "execution_count": 6,
   "metadata": {},
   "outputs": [
    {
     "name": "stdout",
     "output_type": "stream",
     "text": [
      "The Baseline model for SST-3 has 30,627 trainable weights, and the Baseline model for SST-5 has 215,685 trainable weights.\n"
     ]
    }
   ],
   "source": [
    "def count_parameters(model):\n",
    "    return sum(p.numel() for p in model.parameters() if p.requires_grad)\n",
    "print(f'The Baseline model for SST-3 has {count_parameters(model3):,} trainable weights, and the Baseline model for SST-5 has {count_parameters(model5):,} trainable weights.')"
   ]
  },
  {
   "cell_type": "markdown",
   "metadata": {},
   "source": [
    "Defining the hyperparameters and checkpoints file for the training of the model:"
   ]
  },
  {
   "cell_type": "code",
   "execution_count": 8,
   "metadata": {},
   "outputs": [],
   "source": [
    "\n",
    "checkpoint_attn =''# 'project/Models/ATTN'\n",
    "learning_rate = 1e-3\n",
    "batch_size = BATCH_SIZE\n",
    "hidden_size = HIDDEN_DIM\n",
    "embedding_length = EMBEDDING_DIM\n",
    "EPOCHS = 20"
   ]
  },
  {
   "cell_type": "code",
   "execution_count": 9,
   "metadata": {},
   "outputs": [],
   "source": [
    "from project.Trainer import train_and_eval, present_accuracy,print_stats"
   ]
  },
  {
   "cell_type": "markdown",
   "metadata": {},
   "source": [
    "***Training the baseline model over the SST-3 dataset***"
   ]
  },
  {
   "cell_type": "code",
   "execution_count": 10,
   "metadata": {},
   "outputs": [
    {
     "name": "stdout",
     "output_type": "stream",
     "text": [
      "Epoch #0,train loss=1.075,train accuracy=0.375, test accuracy=0.407, elapsed=1.6 sec\n",
      "*** Saved checkpoint project/Models/SST3_RNN_with_DO.pt at epoch 1\n",
      "Epoch #1,train loss=1.060,train accuracy=0.393, test accuracy=0.406, elapsed=1.5 sec\n",
      "Epoch #2,train loss=1.060,train accuracy=0.409, test accuracy=0.516, elapsed=1.5 sec\n",
      "*** Saved checkpoint project/Models/SST3_RNN_with_DO.pt at epoch 3\n",
      "Epoch #3,train loss=1.055,train accuracy=0.419, test accuracy=0.537, elapsed=1.5 sec\n",
      "*** Saved checkpoint project/Models/SST3_RNN_with_DO.pt at epoch 4\n",
      "Epoch #4,train loss=0.939,train accuracy=0.559, test accuracy=0.649, elapsed=1.6 sec\n",
      "*** Saved checkpoint project/Models/SST3_RNN_with_DO.pt at epoch 5\n",
      "Epoch #5,train loss=0.848,train accuracy=0.627, test accuracy=0.662, elapsed=1.5 sec\n",
      "*** Saved checkpoint project/Models/SST3_RNN_with_DO.pt at epoch 6\n",
      "Epoch #6,train loss=0.814,train accuracy=0.640, test accuracy=0.657, elapsed=1.5 sec\n",
      "Epoch #7,train loss=0.781,train accuracy=0.658, test accuracy=0.662, elapsed=1.6 sec\n",
      "Epoch #8,train loss=0.760,train accuracy=0.665, test accuracy=0.660, elapsed=1.5 sec\n",
      "Epoch #9,train loss=0.738,train accuracy=0.673, test accuracy=0.657, elapsed=1.5 sec\n",
      "Epoch #10,train loss=0.716,train accuracy=0.684, test accuracy=0.657, elapsed=1.5 sec\n",
      "Epoch #11,train loss=0.707,train accuracy=0.693, test accuracy=0.654, elapsed=1.5 sec\n",
      "Epoch #12,train loss=0.681,train accuracy=0.705, test accuracy=0.656, elapsed=1.5 sec\n",
      "Epoch #13,train loss=0.661,train accuracy=0.715, test accuracy=0.662, elapsed=1.5 sec\n",
      "Epoch #14,train loss=0.647,train accuracy=0.721, test accuracy=0.659, elapsed=1.5 sec\n",
      "Epoch #15,train loss=0.625,train accuracy=0.730, test accuracy=0.657, elapsed=1.5 sec\n",
      "Epoch #16,train loss=0.624,train accuracy=0.730, test accuracy=0.655, elapsed=1.5 sec\n",
      "Epoch #17,train loss=0.610,train accuracy=0.741, test accuracy=0.653, elapsed=1.5 sec\n",
      "Epoch #18,train loss=0.594,train accuracy=0.750, test accuracy=0.647, elapsed=1.5 sec\n",
      "Epoch #19,train loss=0.591,train accuracy=0.744, test accuracy=0.642, elapsed=1.5 sec\n"
     ]
    }
   ],
   "source": [
    "optimizer = torch.optim.Adam(model3.parameters(), lr=learning_rate)\n",
    "loss_fn = nn.NLLLoss()\n",
    "# Train, unless final checkpoint is found\n",
    "checkpoint = 'project/Models/SST3_RNN_no'\n",
    "checkpoint_file_final = f'{checkpoint}.pt'\n",
    "if os.path.isfile(checkpoint_file_final):\n",
    "    print(f'*** Loading final checkpoint file {checkpoint_file_final} (not training)')\n",
    "    saved_state = torch.load(checkpoint_file_final, map_location=device)\n",
    "    model3.load_state_dict(saved_state['model_state'])\n",
    "else:\n",
    "    try: \n",
    "        train_accur, test_accur = train_and_eval(model3,train_iter, test_iter, optimizer, loss_fn=loss_fn, epochs=EPOCHS,name='RNN_with_DO',data_name = 'SST3')\n",
    "    except KeyboardInterrupt as e:\n",
    "        print('\\n *** Training interrupted by user')\n"
   ]
  },
  {
   "cell_type": "code",
   "execution_count": 11,
   "metadata": {},
   "outputs": [
    {
     "name": "stdout",
     "output_type": "stream",
     "text": [
      "Test accuracy: 67.149%\n"
     ]
    },
    {
     "data": {
      "image/png": "[encoded data removed]",
      "text/plain": [
       "<Figure size 576x432 with 1 Axes>"
      ]
     },
     "metadata": {
      "needs_background": "light"
     },
     "output_type": "display_data"
    }
   ],
   "source": [
    "present_accuracy(model3, test_iter,classes=3);"
   ]
  },
  {
   "cell_type": "markdown",
   "metadata": {},
   "source": [
    "Here we can see the final accuracy, alongside with the confusion matrix <br/><br/>\n",
    "\n",
    "The model is slightly overfitting, as the trainin accuracy is higher then the test accuracy.<br/>\n",
    "Alongside with that, the confusion matrix show us that the neutral class have the most mistakes, while for positive and negative the model is pretty accurate, it does not know how to classify the neutral examples.<br/>\n",
    "This phenomenan is familiar and make sence for two reasons.\n",
    "First, even for human being it is hard to say when something is nither good of bad.<br/>\n",
    "Second, the number of the neutral samples is about half as the number of positive and negative, and it's usually happen with imbalanced data.<br/>\n",
    "\n",
    "to support this claim, we provide some more statistics below, alongside with Precision, Recall and F1 score\n",
    "and show that the F1 for neutral is extreamly low compare to the rest of the model accuracy."
   ]
  },
  {
   "cell_type": "code",
   "execution_count": 12,
   "metadata": {},
   "outputs": [
    {
     "name": "stdout",
     "output_type": "stream",
     "text": [
      "              precision    recall  f1-score   support\n",
      "\n",
      "           0      0.674     0.843     0.749       909\n",
      "           1      0.669     0.787     0.723       912\n",
      "           2      0.000     0.000     0.000       389\n",
      "\n",
      "    accuracy                          0.671      2210\n",
      "   macro avg      0.448     0.543     0.491      2210\n",
      "weighted avg      0.553     0.671     0.607      2210\n",
      "\n"
     ]
    }
   ],
   "source": [
    "print_stats(model3, test_iter,classes=3)"
   ]
  },
  {
   "cell_type": "markdown",
   "metadata": {},
   "source": [
    "One might change the loss function to optimize over F1 or over the neutral class if it's important.\n",
    "Since we train a model with no 'real-life' perpuse, we optimize only to achive better accuracy and leave the other options open for other work."
   ]
  },
  {
   "cell_type": "markdown",
   "metadata": {},
   "source": [
    "## Training on SST-5:\n",
    "We will now train the same model on the fine grained SST to see how it performs on a more difficult task"
   ]
  },
  {
   "cell_type": "code",
   "execution_count": 13,
   "metadata": {},
   "outputs": [
    {
     "name": "stdout",
     "output_type": "stream",
     "text": [
      "Epoch #0,train loss=1.580,train accuracy=0.267, test accuracy=0.228, elapsed=2.6 sec\n",
      "*** Saved checkpoint project/Models/SST5_RNN_with_DO.pt at epoch 1\n",
      "Epoch #1,train loss=1.582,train accuracy=0.257, test accuracy=0.277, elapsed=2.6 sec\n",
      "*** Saved checkpoint project/Models/SST5_RNN_with_DO.pt at epoch 2\n",
      "Epoch #2,train loss=1.506,train accuracy=0.318, test accuracy=0.350, elapsed=2.7 sec\n",
      "*** Saved checkpoint project/Models/SST5_RNN_with_DO.pt at epoch 3\n",
      "Epoch #3,train loss=1.367,train accuracy=0.386, test accuracy=0.398, elapsed=2.6 sec\n",
      "*** Saved checkpoint project/Models/SST5_RNN_with_DO.pt at epoch 4\n",
      "Epoch #4,train loss=1.318,train accuracy=0.411, test accuracy=0.425, elapsed=2.6 sec\n",
      "*** Saved checkpoint project/Models/SST5_RNN_with_DO.pt at epoch 5\n",
      "Epoch #5,train loss=1.275,train accuracy=0.433, test accuracy=0.419, elapsed=2.6 sec\n",
      "Epoch #6,train loss=1.217,train accuracy=0.463, test accuracy=0.408, elapsed=2.6 sec\n",
      "Epoch #7,train loss=1.157,train accuracy=0.497, test accuracy=0.415, elapsed=2.7 sec\n",
      "Epoch #8,train loss=1.082,train accuracy=0.533, test accuracy=0.420, elapsed=2.6 sec\n",
      "Epoch #9,train loss=1.011,train accuracy=0.571, test accuracy=0.423, elapsed=2.6 sec\n",
      "Epoch #10,train loss=0.932,train accuracy=0.610, test accuracy=0.414, elapsed=2.6 sec\n",
      "Epoch #11,train loss=0.872,train accuracy=0.642, test accuracy=0.412, elapsed=2.6 sec\n",
      "Epoch #12,train loss=0.801,train accuracy=0.667, test accuracy=0.411, elapsed=2.6 sec\n",
      "Epoch #13,train loss=0.741,train accuracy=0.695, test accuracy=0.433, elapsed=2.6 sec\n",
      "*** Saved checkpoint project/Models/SST5_RNN_with_DO.pt at epoch 14\n",
      "Epoch #14,train loss=0.692,train accuracy=0.713, test accuracy=0.415, elapsed=2.6 sec\n",
      "Epoch #15,train loss=0.650,train accuracy=0.728, test accuracy=0.411, elapsed=2.6 sec\n",
      "Epoch #16,train loss=0.620,train accuracy=0.746, test accuracy=0.416, elapsed=2.6 sec\n",
      "Epoch #17,train loss=0.554,train accuracy=0.764, test accuracy=0.417, elapsed=2.6 sec\n",
      "Epoch #18,train loss=0.556,train accuracy=0.762, test accuracy=0.426, elapsed=2.6 sec\n",
      "Epoch #19,train loss=0.521,train accuracy=0.767, test accuracy=0.425, elapsed=2.6 sec\n"
     ]
    }
   ],
   "source": [
    "checkpoint = 'project/Models/SST5_RNN_no'\n",
    "optimizer = torch.optim.Adam(model5.parameters(), lr=learning_rate)\n",
    "checkpoint_file_final = f'{checkpoint}.pt'\n",
    "if os.path.isfile(checkpoint_file_final):\n",
    "    print(f'*** Loading final checkpoint file {checkpoint_file_final} (not training)')\n",
    "    saved_state = torch.load(checkpoint_file_final, map_location=device)\n",
    "    model5.load_state_dict(saved_state['model_state'])\n",
    "else:\n",
    "    try: \n",
    "        train_accur, test_accur = train_and_eval(model5,train_iter_5, test_iter_5, optimizer, loss_fn=loss_fn, epochs=EPOCHS,name='RNN_with_DO',data_name = 'SST5')\n",
    "    except KeyboardInterrupt as e:\n",
    "        print('\\n *** Training interrupted by user')"
   ]
  },
  {
   "cell_type": "code",
   "execution_count": 14,
   "metadata": {},
   "outputs": [
    {
     "name": "stdout",
     "output_type": "stream",
     "text": [
      "Test accuracy: 43.937%\n"
     ]
    },
    {
     "data": {
      "image/png": "[encoded data removed]",
      "text/plain": [
       "<Figure size 576x432 with 1 Axes>"
      ]
     },
     "metadata": {
      "needs_background": "light"
     },
     "output_type": "display_data"
    },
    {
     "data": {
      "text/plain": [
       "43.93665158371041"
      ]
     },
     "execution_count": 14,
     "metadata": {},
     "output_type": "execute_result"
    }
   ],
   "source": [
    "present_accuracy(model5, test_iter_5,classes=5)"
   ]
  },
  {
   "cell_type": "markdown",
   "metadata": {},
   "source": [
    "Here we show the accuracy and confusion matrix as before.<br/><br/>\n",
    "\n",
    "This is a much harder problem to solve, as we can see from the confusion matrix, the model is the most certain about the positive and negative classes.\n",
    "\n",
    "We would also show the same statistical attributes as before"
   ]
  },
  {
   "cell_type": "code",
   "execution_count": 15,
   "metadata": {},
   "outputs": [
    {
     "name": "stdout",
     "output_type": "stream",
     "text": [
      "              precision    recall  f1-score   support\n",
      "\n",
      "           0    0.41680   0.51569   0.46100       510\n",
      "           1    0.45822   0.55450   0.50179       633\n",
      "           2    0.29870   0.23650   0.26399       389\n",
      "           3    0.56213   0.47619   0.51560       399\n",
      "           4    0.44910   0.26882   0.33632       279\n",
      "\n",
      "    accuracy                        0.43937      2210\n",
      "   macro avg    0.43699   0.41034   0.41574      2210\n",
      "weighted avg    0.43819   0.43937   0.43212      2210\n",
      "\n"
     ]
    }
   ],
   "source": [
    "print_stats(model5, test_iter_5,classes=5)"
   ]
  },
  {
   "cell_type": "markdown",
   "metadata": {},
   "source": [
    "## Self Attention Model\n",
    "We've tried to overcome this results by using a self attention mechanisem.<br/>\n",
    "This model has an attention layer, ontop of the GRU baed rnn, so the representation of each token hidden state concate with the Attention head\n",
    "We based this implementation on \"Self-Attention-Based BiLSTM Model for Short Text Fine-Grained Sentiment Classification\" of xie et el since it achive better results.\n",
    "\n",
    "\n",
    "<img src =\"AttnModel\"/>"
   ]
  },
  {
   "cell_type": "code",
   "execution_count": 46,
   "metadata": {},
   "outputs": [
    {
     "name": "stdout",
     "output_type": "stream",
     "text": [
      "Attention model:AttentionAnalyzer(\n",
      "  (embd): Embedding(15482, 300)\n",
      "  (rnn): GRU(300, 128, num_layers=2, dropout=0.4, bidirectional=True)\n",
      "  (W_s1): Linear(in_features=256, out_features=256, bias=True)\n",
      "  (AttnDrop): Dropout(p=0.4, inplace=False)\n",
      "  (W_s2): Linear(in_features=256, out_features=1, bias=True)\n",
      "  (sentiment): Linear(in_features=256, out_features=5, bias=True)\n",
      "  (DO): Dropout(p=0.4, inplace=False)\n",
      "  (log_softmax): LogSoftmax(dim=1)\n",
      ")\n",
      "The Attention model for 3-classes has 68,548 trainable weights, the Attention model for 5-classes has 694,022 trainable weights\n"
     ]
    }
   ],
   "source": [
    "attnModel = AttentionAnalyzer(VOC_DIM, EMBEDDING_DIM, HIDDEN_DIM*2, OUTPUT_DIM[0], word_embeddings, layers=NUM_LAYERS,dropout=0.4).to(device) #attention model for SST3"
   ]
  },
  {
   "cell_type": "markdown",
   "metadata": {},
   "source": [
    "***Training the model with attention for SST-3***"
   ]
  },
  {
   "cell_type": "code",
   "execution_count": 48,
   "metadata": {},
   "outputs": [
    {
     "name": "stdout",
     "output_type": "stream",
     "text": [
      "Epoch #0,train loss=0.976,train accuracy=0.514, test accuracy=0.645, elapsed=1.8 sec\n",
      "*** Saved checkpoint project/Models/SST3_Attention_with_DO.pt at epoch 1\n",
      "Epoch #1,train loss=0.861,train accuracy=0.592, test accuracy=0.683, elapsed=1.8 sec\n",
      "*** Saved checkpoint project/Models/SST3_Attention_with_DO.pt at epoch 2\n",
      "Epoch #2,train loss=0.824,train accuracy=0.611, test accuracy=0.687, elapsed=1.8 sec\n",
      "*** Saved checkpoint project/Models/SST3_Attention_with_DO.pt at epoch 3\n",
      "Epoch #3,train loss=0.803,train accuracy=0.618, test accuracy=0.678, elapsed=1.8 sec\n",
      "Epoch #4,train loss=0.761,train accuracy=0.640, test accuracy=0.691, elapsed=1.8 sec\n",
      "*** Saved checkpoint project/Models/SST3_Attention_with_DO.pt at epoch 5\n",
      "Epoch #5,train loss=0.734,train accuracy=0.654, test accuracy=0.677, elapsed=1.8 sec\n",
      "Epoch #6,train loss=0.707,train accuracy=0.664, test accuracy=0.682, elapsed=1.8 sec\n",
      "Epoch #7,train loss=0.662,train accuracy=0.684, test accuracy=0.659, elapsed=1.8 sec\n",
      "Epoch #8,train loss=0.629,train accuracy=0.701, test accuracy=0.664, elapsed=1.8 sec\n",
      "Epoch #9,train loss=0.591,train accuracy=0.714, test accuracy=0.644, elapsed=1.8 sec\n",
      "Epoch #10,train loss=0.559,train accuracy=0.727, test accuracy=0.660, elapsed=1.8 sec\n",
      "Epoch #11,train loss=0.522,train accuracy=0.747, test accuracy=0.660, elapsed=1.8 sec\n",
      "Epoch #12,train loss=0.504,train accuracy=0.757, test accuracy=0.642, elapsed=1.8 sec\n",
      "Epoch #13,train loss=0.474,train accuracy=0.763, test accuracy=0.642, elapsed=1.8 sec\n",
      "Epoch #14,train loss=0.447,train accuracy=0.780, test accuracy=0.634, elapsed=1.8 sec\n",
      "Epoch #15,train loss=0.420,train accuracy=0.787, test accuracy=0.640, elapsed=1.8 sec\n",
      "Epoch #16,train loss=0.407,train accuracy=0.794, test accuracy=0.646, elapsed=1.8 sec\n",
      "Epoch #17,train loss=0.391,train accuracy=0.800, test accuracy=0.630, elapsed=1.8 sec\n",
      "Epoch #18,train loss=0.357,train accuracy=0.814, test accuracy=0.627, elapsed=1.8 sec\n",
      "Epoch #19,train loss=0.361,train accuracy=0.815, test accuracy=0.622, elapsed=1.8 sec\n"
     ]
    }
   ],
   "source": [
    "optimizer = torch.optim.Adam(attnModel.parameters(), lr=learning_rate)\n",
    "loss_fn = nn.NLLLoss()\n",
    "# Train, unless final checkpoint is found\n",
    "checkpoint_attn ='no'# 'project/Models/STT3-ATTN'\n",
    "checkpoint_file_final = f'{checkpoint_attn}.pt'\n",
    "if os.path.isfile(checkpoint_file_final):\n",
    "    print(f'*** Loading final checkpoint file {checkpoint_file_final} (not training)')\n",
    "    saved_state = torch.load(checkpoint_file_final, map_location=device)\n",
    "    attnModel.load_state_dict(saved_state['model_state'])\n",
    "else:\n",
    "    try:\n",
    "        train_and_eval(attnModel,train_iter, test_iter, optimizer, loss_fn=loss_fn, epochs=EPOCHS,name='Attention_with_DO',data_name = 'SST3')\n",
    "\n",
    "    except KeyboardInterrupt as e:\n",
    "        print('\\n *** Training interrupted by user')"
   ]
  },
  {
   "cell_type": "code",
   "execution_count": 49,
   "metadata": {},
   "outputs": [
    {
     "name": "stdout",
     "output_type": "stream",
     "text": [
      "Test accuracy: 70.000%\n"
     ]
    },
    {
     "data": {
      "image/png": "[encoded data removed]",
      "text/plain": [
       "<Figure size 576x432 with 1 Axes>"
      ]
     },
     "metadata": {
      "needs_background": "light"
     },
     "output_type": "display_data"
    },
    {
     "name": "stdout",
     "output_type": "stream",
     "text": [
      "              precision    recall  f1-score   support\n",
      "\n",
      "           0      0.733     0.836     0.781       909\n",
      "           1      0.695     0.829     0.756       912\n",
      "           2      0.365     0.080     0.131       389\n",
      "\n",
      "    accuracy                          0.700      2210\n",
      "   macro avg      0.597     0.582     0.556      2210\n",
      "weighted avg      0.652     0.700     0.656      2210\n",
      "\n"
     ]
    }
   ],
   "source": [
    "present_accuracy(attnModel, test_iter,classes=3)\n",
    "print_stats(attnModel, test_iter,classes=3)"
   ]
  },
  {
   "cell_type": "code",
   "execution_count": 69,
   "metadata": {},
   "outputs": [
    {
     "name": "stdout",
     "output_type": "stream",
     "text": [
      "Attention model:AttentionAnalyzer(\n",
      "  (embd): Embedding(15482, 300)\n",
      "  (rnn): GRU(300, 32, dropout=0.4, bidirectional=True)\n",
      "  (W_s1): Linear(in_features=64, out_features=64, bias=True)\n",
      "  (AttnDrop): Dropout(p=0.4, inplace=False)\n",
      "  (W_s2): Linear(in_features=64, out_features=1, bias=True)\n",
      "  (sentiment): Linear(in_features=64, out_features=3, bias=True)\n",
      "  (DO): Dropout(p=0.4, inplace=False)\n",
      "  (log_softmax): LogSoftmax(dim=1)\n",
      ")\n",
      "The Attention model for 3-classes has 68,548 trainable weights, the Attention model for 5-classes has 694,022 trainable weights\n"
     ]
    }
   ],
   "source": [
    "attnModel5 = AttentionAnalyzer(VOC_DIM,EMBEDDING_DIM,HIDDEN_DIM*8,OUTPUT_DIM[1],word_embeddings_5,layers=NUM_LAYERS*2,dropout=0.4).to(device)#attention model for SST5\n",
    "print(f\"Attention model:{attnModel}\")\n",
    "print(f'The Attention model for 3-classes has {count_parameters(attnModel):,} trainable weights, the Attention model for 5-classes has {count_parameters(attnModel5):,} trainable weights')"
   ]
  },
  {
   "cell_type": "markdown",
   "metadata": {},
   "source": [
    "***Training the attention model for STT-5***"
   ]
  },
  {
   "cell_type": "code",
   "execution_count": 70,
   "metadata": {},
   "outputs": [
    {
     "name": "stdout",
     "output_type": "stream",
     "text": [
      "Epoch #0,train loss=1.489,train accuracy=0.328, test accuracy=0.421, elapsed=3.0 sec\n",
      "*** Saved checkpoint project/Models/SST5_Attention_with_DO.pt at epoch 1\n",
      "Epoch #1,train loss=1.400,train accuracy=0.373, test accuracy=0.436, elapsed=2.9 sec\n",
      "*** Saved checkpoint project/Models/SST5_Attention_with_DO.pt at epoch 2\n",
      "Epoch #2,train loss=1.358,train accuracy=0.385, test accuracy=0.422, elapsed=2.9 sec\n",
      "Epoch #3,train loss=1.319,train accuracy=0.409, test accuracy=0.460, elapsed=2.9 sec\n",
      "*** Saved checkpoint project/Models/SST5_Attention_with_DO.pt at epoch 4\n",
      "Epoch #4,train loss=1.265,train accuracy=0.437, test accuracy=0.449, elapsed=2.9 sec\n",
      "Epoch #5,train loss=1.225,train accuracy=0.456, test accuracy=0.425, elapsed=2.9 sec\n",
      "Epoch #6,train loss=1.158,train accuracy=0.483, test accuracy=0.440, elapsed=2.9 sec\n",
      "Epoch #7,train loss=1.074,train accuracy=0.524, test accuracy=0.423, elapsed=2.9 sec\n",
      "Epoch #8,train loss=0.980,train accuracy=0.564, test accuracy=0.430, elapsed=2.9 sec\n",
      "Epoch #9,train loss=0.884,train accuracy=0.606, test accuracy=0.421, elapsed=3.0 sec\n",
      "Epoch #10,train loss=0.796,train accuracy=0.635, test accuracy=0.424, elapsed=2.9 sec\n",
      "Epoch #11,train loss=0.705,train accuracy=0.668, test accuracy=0.407, elapsed=3.0 sec\n",
      "Epoch #12,train loss=0.610,train accuracy=0.704, test accuracy=0.411, elapsed=2.9 sec\n",
      "Epoch #13,train loss=0.567,train accuracy=0.714, test accuracy=0.406, elapsed=2.9 sec\n",
      "Epoch #14,train loss=0.516,train accuracy=0.726, test accuracy=0.417, elapsed=2.9 sec\n",
      "Epoch #15,train loss=0.476,train accuracy=0.743, test accuracy=0.409, elapsed=3.0 sec\n",
      "Epoch #16,train loss=0.472,train accuracy=0.736, test accuracy=0.416, elapsed=2.9 sec\n",
      "Epoch #17,train loss=0.452,train accuracy=0.745, test accuracy=0.417, elapsed=2.9 sec\n",
      "Epoch #18,train loss=0.443,train accuracy=0.739, test accuracy=0.415, elapsed=2.9 sec\n",
      "Epoch #19,train loss=0.431,train accuracy=0.747, test accuracy=0.406, elapsed=2.9 sec\n"
     ]
    }
   ],
   "source": [
    "checkpoint_attn ='no'# 'project/Models/STT5-ATTN'\n",
    "optimizer = torch.optim.Adam(attnModel5.parameters(), lr=learning_rate)\n",
    "# Train, unless final checkpoint is found\n",
    "checkpoint_file_final = f'{checkpoint_attn}.pt'\n",
    "if os.path.isfile(checkpoint_file_final):\n",
    "    print(f'*** Loading final checkpoint file {checkpoint_file_final} (not training)')\n",
    "    saved_state = torch.load(checkpoint_file_final, map_location=device)\n",
    "    attnModel5.load_state_dict(saved_state['model_state'])\n",
    "else:\n",
    "    try:\n",
    "        train_and_eval(attnModel5,train_iter_5, test_iter_5, optimizer, loss_fn=loss_fn, epochs=EPOCHS,name='Attention_with_DO',data_name = 'SST5')\n",
    "\n",
    "    except KeyboardInterrupt as e:\n",
    "        print('\\n *** Training interrupted by user')"
   ]
  },
  {
   "cell_type": "code",
   "execution_count": 68,
   "metadata": {},
   "outputs": [
    {
     "name": "stdout",
     "output_type": "stream",
     "text": [
      "Test accuracy: 44.299%\n"
     ]
    },
    {
     "data": {
      "image/png": "[encoded data removed]",
      "text/plain": [
       "<Figure size 576x432 with 1 Axes>"
      ]
     },
     "metadata": {
      "needs_background": "light"
     },
     "output_type": "display_data"
    },
    {
     "name": "stdout",
     "output_type": "stream",
     "text": [
      "              precision    recall  f1-score   support\n",
      "\n",
      "           0    0.39884   0.53725   0.45781       510\n",
      "           1    0.47434   0.59874   0.52933       633\n",
      "           2    0.25641   0.15424   0.19262       389\n",
      "           3    0.59582   0.42857   0.49854       399\n",
      "           4    0.46798   0.34050   0.39419       279\n",
      "\n",
      "    accuracy                        0.44299      2210\n",
      "   macro avg    0.43868   0.41186   0.41450      2210\n",
      "weighted avg    0.43969   0.44299   0.43094      2210\n",
      "\n"
     ]
    }
   ],
   "source": [
    "present_accuracy(attnModel5, test_iter_5,classes=5)\n",
    "print_stats(attnModel5, test_iter_5,classes=5)"
   ]
  },
  {
   "cell_type": "markdown",
   "metadata": {},
   "source": [
    "## Spectrally-Normalized Wasserstein GANs"
   ]
  },
  {
   "cell_type": "markdown",
   "metadata": {},
   "source": [
    "In HW3 we implemented a simple GANs from scratch, using an approach very similar to the original GAN paper. However, the results left much to be desired and we discovered first-hand how hard it is to train GANs due to their inherent instability.\n",
    "\n",
    "One of the prevailing approaches for improving training stability for GANs is to use a technique called [Spectral Normalization](https://arxiv.org/pdf/1802.05957.pdf) to normalize the largest singular value of a weight matrix so that it equals 1.\n",
    "This approach is generally applied to the discriminator's weights in order to stabilize training. The resulting model is sometimes referred to as a SN-GAN.\n",
    "See Appendix A in the linked paper for the exact algorithm. You can also use pytorch's `spectral_norm`.\n",
    "\n",
    "Another very common improvement to the vanilla GAN is known a [Wasserstein GAN](https://arxiv.org/pdf/1701.07875.pdf) (WGAN). It uses a simple modification to the loss function, with strong theoretical justifications based on the Wasserstein (earth-mover's) distance.\n",
    "See also [here](https://developers.google.com/machine-learning/gan/loss) for a brief explanation of this loss function.\n",
    "\n",
    "One problem with generative models for images is that it's difficult to objectively assess the quality of the resulting images.\n",
    "To also obtain a quantitative score for the images generated by each model,\n",
    "we'll use the [Inception Score](https://arxiv.org/pdf/1606.03498.pdf).\n",
    "This uses a pre-trained Inception CNN model on the generated images and computes a score based on the predicted probability for each class.\n",
    "Although not a perfect proxy for subjective quality, it's commonly used a way to compare generative models.\n",
    "You can use an implementation of this score that you find online, e.g. [this one](https://github.com/sbarratt/inception-score-pytorch) or implement it yourself.\n",
    "\n",
    "Based on the linked papers, add Spectral Normalization and the Wassertein loss to your GAN from HW3.\n",
    "Compare between:\n",
    "- The baseline model (vanilla GAN)\n",
    "- SN-GAN (vanilla + Spectral Normalization)\n",
    "- WGAN (using Wasserstein Loss)\n",
    "- Optional: SN+WGAN, i.e. a combined model using both modifications.\n",
    "\n",
    "As a dataset, you can use [LFW](http://vis-www.cs.umass.edu/lfw/) as in HW3 or [CelebA](http://mmlab.ie.cuhk.edu.hk/projects/CelebA.html), or even choose a custom dataset (note that there's a dataloder for CelebA in `torchvision`). \n",
    "\n",
    "Your results should include:\n",
    "- Everything written in the **Guidelines** above.\n",
    "- A comparative analysis between the baseline and the other models. Compare:\n",
    "  - Subjective quality (show multiple generated images from each model)\n",
    "  - Inception score (can use a subset of the data).\n",
    "- You should show substantially improved subjective visual results with these techniques."
   ]
  },
  {
   "cell_type": "markdown",
   "metadata": {},
   "source": [
    "## Implementation"
   ]
  },
  {
   "cell_type": "markdown",
   "metadata": {},
   "source": [
    "**TODO**: This is where you should write your explanations and implement the code to display the results.\n",
    "See guidelines about what to include in this section."
   ]
  },
  {
   "cell_type": "code",
   "execution_count": null,
   "metadata": {},
   "outputs": [],
   "source": []
  },
  {
   "cell_type": "code",
   "execution_count": null,
   "metadata": {},
   "outputs": [],
   "source": []
  }
 ],
 "metadata": {
  "kernelspec": {
   "display_name": "Python 3",
   "language": "python",
   "name": "python3"
  },
  "language_info": {
   "codemirror_mode": {
    "name": "ipython",
    "version": 3
   },
   "file_extension": ".py",
   "mimetype": "text/x-python",
   "name": "python",
   "nbconvert_exporter": "python",
   "pygments_lexer": "ipython3",
   "version": "3.8.6"
  }
 },
 "nbformat": 4,
 "nbformat_minor": 4
}
