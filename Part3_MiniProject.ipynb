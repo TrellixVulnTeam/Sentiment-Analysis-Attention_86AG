{
 "cells": [
  {
   "cell_type": "markdown",
   "metadata": {},
   "source": [
    "$$\n",
    "\\newcommand{\\mat}[1]{\\boldsymbol {#1}}\n",
    "\\newcommand{\\mattr}[1]{\\boldsymbol {#1}^\\top}\n",
    "\\newcommand{\\matinv}[1]{\\boldsymbol {#1}^{-1}}\n",
    "\\newcommand{\\vec}[1]{\\boldsymbol {#1}}\n",
    "\\newcommand{\\vectr}[1]{\\boldsymbol {#1}^\\top}\n",
    "\\newcommand{\\rvar}[1]{\\mathrm {#1}}\n",
    "\\newcommand{\\rvec}[1]{\\boldsymbol{\\mathrm{#1}}}\n",
    "\\newcommand{\\diag}{\\mathop{\\mathrm {diag}}}\n",
    "\\newcommand{\\set}[1]{\\mathbb {#1}}\n",
    "\\newcommand{\\cset}[1]{\\mathcal{#1}}\n",
    "\\newcommand{\\norm}[1]{\\left\\lVert#1\\right\\rVert}\n",
    "\\newcommand{\\pderiv}[2]{\\frac{\\partial #1}{\\partial #2}}\n",
    "\\newcommand{\\bb}[1]{\\boldsymbol{#1}}\n",
    "\\newcommand{\\E}[2][]{\\mathbb{E}_{#1}\\left[#2\\right]}\n",
    "\\newcommand{\\ip}[3]{\\left<#1,#2\\right>_{#3}}\n",
    "\\newcommand{\\given}[]{\\,\\middle\\vert\\,}\n",
    "\\newcommand{\\DKL}[2]{\\cset{D}_{\\text{KL}}\\left(#1\\,\\Vert\\, #2\\right)}\n",
    "\\newcommand{\\grad}[]{\\nabla}\n",
    "$$\n",
    "\n",
    "# Part 3: Mini-Project\n",
    "<a id=part3></a>"
   ]
  },
  {
   "cell_type": "markdown",
   "metadata": {},
   "source": [
    "In this part you'll implement a small comparative-analysis project, heavily based on the materials from the tutorials and homework.\n",
    "\n",
    "You must **choose one** of the project options specified below."
   ]
  },
  {
   "cell_type": "markdown",
   "metadata": {},
   "source": [
    "### Guidelines"
   ]
  },
  {
   "cell_type": "markdown",
   "metadata": {},
   "source": [
    "- You should implement the code which displays your results in this notebook, and add any additional code files for your implementation in the `project/` directory. You can import these files here, as we do for the homeworks.\n",
    "- Running this notebook should not perform any training - load your results from some output files and display them here. The notebook must be runnable from start to end without errors.\n",
    "- You must include a detailed write-up (in the notebook) of what you implemented and how. \n",
    "- Explain the structure of your code and how to run it to reproduce your results.\n",
    "- Explicitly state any external code you used, including built-in pytorch models and code from the course tutorials/homework.\n",
    "- Analyze your numerical results, explaining **why** you got these results (not just specifying the results).\n",
    "- Where relevant, place all results in a table or display them using a graph.\n",
    "- Before submitting, make sure all files which are required to run this notebook are included in the generated submission zip.\n",
    "- Try to keep the submission file size under 10MB. Do not include model checkpoint files, dataset files, or any other non-essentials files. Instead include your results as images/text files/pickles/etc, and load them for display in this notebook. "
   ]
  },
  {
   "cell_type": "markdown",
   "metadata": {},
   "source": [
    "## Sentiment Analysis with Self-Attention and Word Embeddings"
   ]
  },
  {
   "cell_type": "markdown",
   "metadata": {},
   "source": [
    "Based on Tutorials 6 and 7, we'll implement and train an improved sentiment analysis model.\n",
    "We'll use self-attention instead of RNNs and incorporate pre-trained word embeddings.\n",
    "\n",
    "In tutorial 6 we saw that we can train word embeddings together with the model.\n",
    "Although this produces embeddings which are customized to the specific task at hand,\n",
    "it also greatly increases training time.\n",
    "A common technique is to use pre-trained word embeddings.\n",
    "This is essentially a large mapping from words (e.g. in english) to some\n",
    "high-dimensional vector, such that semantically similar words have an embedding that is\n",
    "\"close\" by some metric (e.g. cosine distance).\n",
    "Use the [GloVe](https://nlp.stanford.edu/projects/glove/) 6B embeddings for this purpose.\n",
    "You can load these vectors into the weights of an `nn.Embedding` layer.\n",
    "\n",
    "In tutorial 7 we learned how attention can be used to learn to predict a relative importance\n",
    "for each element in a sequence, compared to the other elements.\n",
    "Here, we'll replace the RNN with self-attention only approach similar to Transformer models, roughly based on [this paper](https://www.aclweb.org/anthology/W18-6219.pdf).\n",
    "After embedding each word in the sentence using the pre-trained word-embedding a positional-encoding vector is added to provide each word in the sentence a unique value based on it's location.\n",
    "One or more self-attention layers are then applied to the results, to obtain an importance weighting for each word.\n",
    "Then we classify the sentence based on the average these weighted encodings.\n",
    "\n",
    "\n",
    "Now, using these approaches, you need to:\n",
    "\n",
    "- Implement a **baseline** model: Use pre-trained embeddings with an RNN-based model.\n",
    "You can use LSTM/GRU or bi-directional versions of these, in a way very similar to what we implemented in the tutorial.\n",
    "-  Implement an **improved** model: Based on the self-attention approach, implement an attention-based sentiment analysis model that has 1-2 self-attention layers instead of an RNN. You should use the same pre-trained word embeddings for this model.\n",
    "- You can use pytorch's built-in RNNs, attention layers, etc.\n",
    "- For positional encoding you can use the sinosoidal approach described in the paper (first proposed [here](https://arxiv.org/pdf/1706.03762.pdf)). You can use existing online implementations (even though it's straightforward to implement). \n",
    "- You can use the SST database as shown in the tutorial.\n",
    "\n",
    "Your results should include:\n",
    "- Everything written in the **Guidelines** above.\n",
    "- A comparative analysis: compare the baseline to the improved model. Compare in terms of overall classification accuracy and show a multiclass confusion matrix.\n",
    "- Visualize of the attention maps for a few movie reviews from each class, and explain the results."
   ]
  },
  {
   "cell_type": "code",
   "execution_count": 1,
   "metadata": {},
   "outputs": [],
   "source": [
    "# Setup\n",
    "%matplotlib inline\n",
    "import os\n",
    "import sys\n",
    "import time\n",
    "import torch\n",
    "import matplotlib.pyplot as plt\n",
    "import warnings\n",
    "warnings.simplefilter(\"ignore\")\n",
    "plt.rcParams['font.size'] = 20\n",
    "data_dir = os.path.expanduser('~/.pytorch-datasets')\n",
    "device = torch.device('cuda' if torch.cuda.is_available() else 'cpu')"
   ]
  },
  {
   "cell_type": "markdown",
   "metadata": {},
   "source": [
    "**Dataset**<br/>\n",
    "We will use torchtext package and the SST dataset as was used in tutorial 6 (Sequence Models). "
   ]
  },
  {
   "cell_type": "code",
   "execution_count": 2,
   "metadata": {},
   "outputs": [
    {
     "name": "stdout",
     "output_type": "stream",
     "text": [
      "Number of training samples: 8544\n",
      "Number of test     samples: 2210\n"
     ]
    }
   ],
   "source": [
    "import torchtext.data\n",
    "\n",
    "review_parser = torchtext.data.Field(\n",
    "    sequential=True, use_vocab=True, lower=True,\n",
    "    init_token='<sos>', eos_token='<eos>', dtype=torch.long,\n",
    "    tokenize='spacy', tokenizer_language='en_core_web_sm'\n",
    ")\n",
    "\n",
    "# This Field object converts the text labels into numeric values (0,1,2)\n",
    "label_parser = torchtext.data.Field(\n",
    "    is_target=True, sequential=False, unk_token=None, use_vocab=True\n",
    ")\n",
    "import torchtext.datasets\n",
    "\n",
    "ds_train, ds_valid, ds_test = torchtext.datasets.SST.splits(\n",
    "    review_parser, label_parser, root=data_dir\n",
    ")\n",
    "\n",
    "n_train = len(ds_train)\n",
    "print(f'Number of training samples: {n_train}')\n",
    "print(f'Number of test     samples: {len(ds_test)}')\n"
   ]
  },
  {
   "cell_type": "markdown",
   "metadata": {},
   "source": [
    "We will build a vocabulary:"
   ]
  },
  {
   "cell_type": "code",
   "execution_count": 3,
   "metadata": {},
   "outputs": [],
   "source": [
    "review_parser.build_vocab(ds_train)\n",
    "label_parser.build_vocab(ds_train)"
   ]
  },
  {
   "cell_type": "markdown",
   "metadata": {},
   "source": [
    "**Dataloader**: we will use bucketIterator as dataloader to deal with reviews of different length"
   ]
  },
  {
   "cell_type": "code",
   "execution_count": 4,
   "metadata": {},
   "outputs": [],
   "source": [
    "BATCH_SIZE = 4 #hyper parameter, could be changed\n",
    "\n",
    "# BucketIterator creates batches with samples of similar length\n",
    "# to minimize the number of <pad> tokens in the batch.\n",
    "dl_train, dl_valid, dl_test = torchtext.data.BucketIterator.splits(\n",
    "    (ds_train, ds_valid, ds_test), batch_size=BATCH_SIZE,\n",
    "    shuffle=True, device=device)"
   ]
  },
  {
   "cell_type": "markdown",
   "metadata": {},
   "source": [
    "**Model:** we load the model and create an instance"
   ]
  },
  {
   "cell_type": "code",
   "execution_count": 5,
   "metadata": {},
   "outputs": [
    {
     "data": {
      "text/plain": [
       "SentimentAnalyzer(\n",
       "  (embd): Embedding(15492, 100)\n",
       "  (rnn): LSTM(100, 128)\n",
       "  (log_softmax): LogSoftmax(dim=1)\n",
       ")"
      ]
     },
     "execution_count": 5,
     "metadata": {},
     "output_type": "execute_result"
    }
   ],
   "source": [
    "from project.Analyzer import SentimentAnalyzer\n",
    "\n",
    "INPUT_DIM = len(review_parser.vocab)\n",
    "EMBEDDING_DIM = 100\n",
    "HIDDEN_DIM = 128\n",
    "OUTPUT_DIM = 3\n",
    "\n",
    "model = SentimentAnalyzer(INPUT_DIM, EMBEDDING_DIM, HIDDEN_DIM)\n",
    "model"
   ]
  },
  {
   "cell_type": "code",
   "execution_count": 6,
   "metadata": {},
   "outputs": [
    {
     "name": "stdout",
     "output_type": "stream",
     "text": [
      "model(X) = \n",
      " tensor([[[-1.5014, -1.3720, -1.4068, -1.3674, -1.4901, -1.3781, -1.3774,\n",
      "          -1.4228, -1.3144, -1.4377, -1.3967, -1.3245, -1.4068, -1.4526,\n",
      "          -1.4751, -1.4504, -1.4115, -1.2959, -1.3366, -1.4434, -1.2720,\n",
      "          -1.4780, -1.3932, -1.2730, -1.3335, -1.3444, -1.4635, -1.4721,\n",
      "          -1.4868, -1.4616, -1.4217, -1.3670, -1.4193, -1.3954, -1.4378,\n",
      "          -1.4779, -1.3804, -1.4323, -1.2991, -1.3186, -1.3035, -1.4488,\n",
      "          -1.3430, -1.2795, -1.3812, -1.3213, -1.3701, -1.3597, -1.3862,\n",
      "          -1.4561, -1.2987, -1.3661, -1.2911, -1.3354, -1.4194, -1.3737,\n",
      "          -1.3253, -1.3438, -1.5226, -1.3577, -1.3812, -1.4570, -1.4013,\n",
      "          -1.4555, -1.3337, -1.3578, -1.3921, -1.4193, -1.4789, -1.3648,\n",
      "          -1.3536, -1.3883, -1.4204, -1.5216, -1.3606, -1.3539, -1.2944,\n",
      "          -1.4639, -1.3137, -1.3600, -1.3352, -1.3331, -1.3917, -1.3706,\n",
      "          -1.4584, -1.4385, -1.3953, -1.3695, -1.4562, -1.3626, -1.3455,\n",
      "          -1.3384, -1.3412, -1.4418, -1.3461, -1.4674, -1.4157, -1.4338,\n",
      "          -1.4117, -1.3567, -1.5092, -1.4610, -1.4152, -1.4648, -1.3053,\n",
      "          -1.3384, -1.4429, -1.3932, -1.4979, -1.4571, -1.3587, -1.4596,\n",
      "          -1.2874, -1.3542, -1.4283, -1.3695, -1.3503, -1.3365, -1.3302,\n",
      "          -1.4144, -1.4033, -1.4061, -1.4542, -1.3427, -1.4164, -1.6000,\n",
      "          -1.4419, -1.3614],\n",
      "         [-1.1356, -1.4343, -1.3351, -1.4104, -1.1389, -1.3981, -1.3992,\n",
      "          -1.2899, -1.5838, -1.2669, -1.3487, -1.5933, -1.3697, -1.2178,\n",
      "          -1.2045, -1.2487, -1.3170, -1.6245, -1.5547, -1.2450, -1.7344,\n",
      "          -1.1536, -1.3986, -1.7835, -1.5632, -1.5086, -1.1950, -1.1788,\n",
      "          -1.1315, -1.2047, -1.3288, -1.4530, -1.2888, -1.3561, -1.2528,\n",
      "          -1.1551, -1.4012, -1.2332, -1.7273, -1.6152, -1.6776, -1.2212,\n",
      "          -1.5155, -1.7246, -1.4015, -1.5820, -1.4286, -1.4650, -1.3913,\n",
      "          -1.1941, -1.6987, -1.4703, -1.7201, -1.5708, -1.2853, -1.4341,\n",
      "          -1.5806, -1.5147, -1.0897, -1.4787, -1.3762, -1.2035, -1.3416,\n",
      "          -1.1949, -1.5557, -1.5422, -1.3819, -1.2989, -1.2322, -1.4580,\n",
      "          -1.4682, -1.3390, -1.2895, -1.0916, -1.4627, -1.5414, -1.7159,\n",
      "          -1.1917, -1.5919, -1.4527, -1.5458, -1.5394, -1.3721, -1.4427,\n",
      "          -1.2180, -1.2397, -1.3635, -1.4457, -1.1993, -1.4657, -1.5167,\n",
      "          -1.5396, -1.5028, -1.2391, -1.5095, -1.2169, -1.3215, -1.2683,\n",
      "          -1.2998, -1.4853, -1.1452, -1.2438, -1.3078, -1.2174, -1.5928,\n",
      "          -1.5197, -1.2387, -1.3628, -1.1269, -1.2080, -1.4589, -1.2120,\n",
      "          -1.7477, -1.5036, -1.2740, -1.4257, -1.4866, -1.5398, -1.5468,\n",
      "          -1.3109, -1.3365, -1.3239, -1.2115, -1.5089, -1.2733, -0.9325,\n",
      "          -1.2868, -1.4464],\n",
      "         [-1.4781, -1.3692, -1.4025, -1.3804, -1.4820, -1.3840, -1.3841,\n",
      "          -1.4202, -1.3341, -1.4208, -1.3984, -1.3264, -1.3857, -1.4472,\n",
      "          -1.4476, -1.4293, -1.4102, -1.3264, -1.3359, -1.4355, -1.3075,\n",
      "          -1.4771, -1.3763, -1.2875, -1.3343, -1.3503, -1.4564, -1.4633,\n",
      "          -1.4889, -1.4524, -1.3973, -1.3644, -1.4212, -1.3973, -1.4337,\n",
      "          -1.4773, -1.3823, -1.4491, -1.2954, -1.3209, -1.3061, -1.4477,\n",
      "          -1.3476, -1.3016, -1.3811, -1.3318, -1.3744, -1.3611, -1.3841,\n",
      "          -1.4629, -1.3012, -1.3565, -1.2982, -1.3305, -1.4239, -1.3685,\n",
      "          -1.3314, -1.3481, -1.5016, -1.3566, -1.3938, -1.4549, -1.4018,\n",
      "          -1.4616, -1.3362, -1.3273, -1.3851, -1.4162, -1.4330, -1.3633,\n",
      "          -1.3592, -1.4111, -1.4210, -1.5022, -1.3624, -1.3330, -1.2978,\n",
      "          -1.4592, -1.3296, -1.3652, -1.3401, -1.3436, -1.3911, -1.3675,\n",
      "          -1.4464, -1.4412, -1.3928, -1.3662, -1.4569, -1.3603, -1.3471,\n",
      "          -1.3410, -1.3559, -1.4411, -1.3505, -1.4435, -1.4054, -1.4276,\n",
      "          -1.4181, -1.3542, -1.4630, -1.4271, -1.4132, -1.4426, -1.3349,\n",
      "          -1.3492, -1.4407, -1.3937, -1.4861, -1.4530, -1.3678, -1.4483,\n",
      "          -1.2916, -1.3483, -1.4256, -1.3744, -1.3569, -1.3432, -1.3416,\n",
      "          -1.4125, -1.4038, -1.4093, -1.4522, -1.3510, -1.4318, -1.5982,\n",
      "          -1.4100, -1.3685],\n",
      "         [-1.4790, -1.3711, -1.4025, -1.3875, -1.4815, -1.3851, -1.3846,\n",
      "          -1.4188, -1.3365, -1.4301, -1.4023, -1.3266, -1.3834, -1.4485,\n",
      "          -1.4428, -1.4306, -1.4097, -1.3322, -1.3353, -1.4356, -1.2993,\n",
      "          -1.4779, -1.3773, -1.2873, -1.3332, -1.3512, -1.4575, -1.4635,\n",
      "          -1.4883, -1.4510, -1.3999, -1.3637, -1.4226, -1.3969, -1.4338,\n",
      "          -1.4758, -1.3814, -1.4477, -1.2886, -1.3214, -1.3066, -1.4475,\n",
      "          -1.3494, -1.3038, -1.3815, -1.3332, -1.3732, -1.3634, -1.3835,\n",
      "          -1.4596, -1.3020, -1.3567, -1.2985, -1.3291, -1.4238, -1.3704,\n",
      "          -1.3307, -1.3488, -1.5016, -1.3577, -1.3941, -1.4547, -1.4019,\n",
      "          -1.4605, -1.3371, -1.3331, -1.3861, -1.4161, -1.4194, -1.3623,\n",
      "          -1.3685, -1.4084, -1.4208, -1.4991, -1.3632, -1.3319, -1.2982,\n",
      "          -1.4587, -1.3354, -1.3702, -1.3397, -1.3436, -1.3904, -1.3664,\n",
      "          -1.4433, -1.4414, -1.3940, -1.3661, -1.4588, -1.3606, -1.3464,\n",
      "          -1.3407, -1.3538, -1.4390, -1.3486, -1.4388, -1.4055, -1.4254,\n",
      "          -1.4208, -1.3551, -1.4731, -1.4283, -1.4133, -1.4415, -1.3379,\n",
      "          -1.3489, -1.4387, -1.3959, -1.4868, -1.4506, -1.3631, -1.4478,\n",
      "          -1.2909, -1.3477, -1.4263, -1.3766, -1.3578, -1.3402, -1.3424,\n",
      "          -1.4113, -1.4033, -1.4086, -1.4498, -1.3519, -1.4328, -1.5981,\n",
      "          -1.4137, -1.3712]]], grad_fn=<LogSoftmaxBackward>) torch.Size([1, 4, 128])\n"
     ]
    }
   ],
   "source": [
    "batch = next(iter(dl_train))\n",
    "\n",
    "X, y = batch.text, batch.label\n",
    "\n",
    "print(f'model(X) = \\n', model(X), model(X).shape)"
   ]
  },
  {
   "cell_type": "markdown",
   "metadata": {},
   "source": [
    "## Spectrally-Normalized Wasserstein GANs"
   ]
  },
  {
   "cell_type": "markdown",
   "metadata": {},
   "source": [
    "In HW3 we implemented a simple GANs from scratch, using an approach very similar to the original GAN paper. However, the results left much to be desired and we discovered first-hand how hard it is to train GANs due to their inherent instability.\n",
    "\n",
    "One of the prevailing approaches for improving training stability for GANs is to use a technique called [Spectral Normalization](https://arxiv.org/pdf/1802.05957.pdf) to normalize the largest singular value of a weight matrix so that it equals 1.\n",
    "This approach is generally applied to the discriminator's weights in order to stabilize training. The resulting model is sometimes referred to as a SN-GAN.\n",
    "See Appendix A in the linked paper for the exact algorithm. You can also use pytorch's `spectral_norm`.\n",
    "\n",
    "Another very common improvement to the vanilla GAN is known a [Wasserstein GAN](https://arxiv.org/pdf/1701.07875.pdf) (WGAN). It uses a simple modification to the loss function, with strong theoretical justifications based on the Wasserstein (earth-mover's) distance.\n",
    "See also [here](https://developers.google.com/machine-learning/gan/loss) for a brief explanation of this loss function.\n",
    "\n",
    "One problem with generative models for images is that it's difficult to objectively assess the quality of the resulting images.\n",
    "To also obtain a quantitative score for the images generated by each model,\n",
    "we'll use the [Inception Score](https://arxiv.org/pdf/1606.03498.pdf).\n",
    "This uses a pre-trained Inception CNN model on the generated images and computes a score based on the predicted probability for each class.\n",
    "Although not a perfect proxy for subjective quality, it's commonly used a way to compare generative models.\n",
    "You can use an implementation of this score that you find online, e.g. [this one](https://github.com/sbarratt/inception-score-pytorch) or implement it yourself.\n",
    "\n",
    "Based on the linked papers, add Spectral Normalization and the Wassertein loss to your GAN from HW3.\n",
    "Compare between:\n",
    "- The baseline model (vanilla GAN)\n",
    "- SN-GAN (vanilla + Spectral Normalization)\n",
    "- WGAN (using Wasserstein Loss)\n",
    "- Optional: SN+WGAN, i.e. a combined model using both modifications.\n",
    "\n",
    "As a dataset, you can use [LFW](http://vis-www.cs.umass.edu/lfw/) as in HW3 or [CelebA](http://mmlab.ie.cuhk.edu.hk/projects/CelebA.html), or even choose a custom dataset (note that there's a dataloder for CelebA in `torchvision`). \n",
    "\n",
    "Your results should include:\n",
    "- Everything written in the **Guidelines** above.\n",
    "- A comparative analysis between the baseline and the other models. Compare:\n",
    "  - Subjective quality (show multiple generated images from each model)\n",
    "  - Inception score (can use a subset of the data).\n",
    "- You should show substantially improved subjective visual results with these techniques."
   ]
  },
  {
   "cell_type": "markdown",
   "metadata": {},
   "source": [
    "## Implementation"
   ]
  },
  {
   "cell_type": "markdown",
   "metadata": {},
   "source": [
    "**TODO**: This is where you should write your explanations and implement the code to display the results.\n",
    "See guidelines about what to include in this section."
   ]
  }
 ],
 "metadata": {
  "kernelspec": {
   "display_name": "Python 3",
   "language": "python",
   "name": "python3"
  },
  "language_info": {
   "codemirror_mode": {
    "name": "ipython",
    "version": 3
   },
   "file_extension": ".py",
   "mimetype": "text/x-python",
   "name": "python",
   "nbconvert_exporter": "python",
   "pygments_lexer": "ipython3",
   "version": "3.8.6"
  }
 },
 "nbformat": 4,
 "nbformat_minor": 4
}
