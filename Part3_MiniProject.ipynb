{
 "cells": [
  {
   "cell_type": "markdown",
   "metadata": {},
   "source": [
    "$$\n",
    "\\newcommand{\\mat}[1]{\\boldsymbol {#1}}\n",
    "\\newcommand{\\mattr}[1]{\\boldsymbol {#1}^\\top}\n",
    "\\newcommand{\\matinv}[1]{\\boldsymbol {#1}^{-1}}\n",
    "\\newcommand{\\vec}[1]{\\boldsymbol {#1}}\n",
    "\\newcommand{\\vectr}[1]{\\boldsymbol {#1}^\\top}\n",
    "\\newcommand{\\rvar}[1]{\\mathrm {#1}}\n",
    "\\newcommand{\\rvec}[1]{\\boldsymbol{\\mathrm{#1}}}\n",
    "\\newcommand{\\diag}{\\mathop{\\mathrm {diag}}}\n",
    "\\newcommand{\\set}[1]{\\mathbb {#1}}\n",
    "\\newcommand{\\cset}[1]{\\mathcal{#1}}\n",
    "\\newcommand{\\norm}[1]{\\left\\lVert#1\\right\\rVert}\n",
    "\\newcommand{\\pderiv}[2]{\\frac{\\partial #1}{\\partial #2}}\n",
    "\\newcommand{\\bb}[1]{\\boldsymbol{#1}}\n",
    "\\newcommand{\\E}[2][]{\\mathbb{E}_{#1}\\left[#2\\right]}\n",
    "\\newcommand{\\ip}[3]{\\left<#1,#2\\right>_{#3}}\n",
    "\\newcommand{\\given}[]{\\,\\middle\\vert\\,}\n",
    "\\newcommand{\\DKL}[2]{\\cset{D}_{\\text{KL}}\\left(#1\\,\\Vert\\, #2\\right)}\n",
    "\\newcommand{\\grad}[]{\\nabla}\n",
    "$$\n",
    "\n",
    "# Part 3: Mini-Project\n",
    "<a id=part3></a>"
   ]
  },
  {
   "cell_type": "markdown",
   "metadata": {},
   "source": [
    "In this part you'll implement a small comparative-analysis project, heavily based on the materials from the tutorials and homework.\n",
    "\n",
    "You must **choose one** of the project options specified below."
   ]
  },
  {
   "cell_type": "markdown",
   "metadata": {},
   "source": [
    "### Guidelines"
   ]
  },
  {
   "cell_type": "markdown",
   "metadata": {},
   "source": [
    "- You should implement the code which displays your results in this notebook, and add any additional code files for your implementation in the `project/` directory. You can import these files here, as we do for the homeworks.\n",
    "- Running this notebook should not perform any training - load your results from some output files and display them here. The notebook must be runnable from start to end without errors.\n",
    "- You must include a detailed write-up (in the notebook) of what you implemented and how. \n",
    "- Explain the structure of your code and how to run it to reproduce your results.\n",
    "- Explicitly state any external code you used, including built-in pytorch models and code from the course tutorials/homework.\n",
    "- Analyze your numerical results, explaining **why** you got these results (not just specifying the results).\n",
    "- Where relevant, place all results in a table or display them using a graph.\n",
    "- Before submitting, make sure all files which are required to run this notebook are included in the generated submission zip.\n",
    "- Try to keep the submission file size under 10MB. Do not include model checkpoint files, dataset files, or any other non-essentials files. Instead include your results as images/text files/pickles/etc, and load them for display in this notebook. "
   ]
  },
  {
   "cell_type": "markdown",
   "metadata": {},
   "source": [
    "## Sentiment Analysis with Self-Attention and Word Embeddings"
   ]
  },
  {
   "cell_type": "markdown",
   "metadata": {},
   "source": [
    "Based on Tutorials 6 and 7, we'll implement and train an improved sentiment analysis model.\n",
    "We'll use self-attention instead of RNNs and incorporate pre-trained word embeddings.\n",
    "\n",
    "In tutorial 6 we saw that we can train word embeddings together with the model.\n",
    "Although this produces embeddings which are customized to the specific task at hand,\n",
    "it also greatly increases training time.\n",
    "A common technique is to use pre-trained word embeddings.\n",
    "This is essentially a large mapping from words (e.g. in english) to some\n",
    "high-dimensional vector, such that semantically similar words have an embedding that is\n",
    "\"close\" by some metric (e.g. cosine distance).\n",
    "Use the [GloVe](https://nlp.stanford.edu/projects/glove/) 6B embeddings for this purpose.\n",
    "You can load these vectors into the weights of an `nn.Embedding` layer.\n",
    "\n",
    "In tutorial 7 we learned how attention can be used to learn to predict a relative importance\n",
    "for each element in a sequence, compared to the other elements.\n",
    "Here, we'll replace the RNN with self-attention only approach similar to Transformer models, roughly based on [this paper](https://www.aclweb.org/anthology/W18-6219.pdf).\n",
    "After embedding each word in the sentence using the pre-trained word-embedding a positional-encoding vector is added to provide each word in the sentence a unique value based on it's location.\n",
    "One or more self-attention layers are then applied to the results, to obtain an importance weighting for each word.\n",
    "Then we classify the sentence based on the average these weighted encodings.\n",
    "\n",
    "\n",
    "Now, using these approaches, you need to:\n",
    "\n",
    "- Implement a **baseline** model: Use pre-trained embeddings with an RNN-based model.\n",
    "You can use LSTM/GRU or bi-directional versions of these, in a way very similar to what we implemented in the tutorial.\n",
    "-  Implement an **improved** model: Based on the self-attention approach, implement an attention-based sentiment analysis model that has 1-2 self-attention layers instead of an RNN. You should use the same pre-trained word embeddings for this model.\n",
    "- You can use pytorch's built-in RNNs, attention layers, etc.\n",
    "- For positional encoding you can use the sinosoidal approach described in the paper (first proposed [here](https://arxiv.org/pdf/1706.03762.pdf)). You can use existing online implementations (even though it's straightforward to implement). \n",
    "- You can use the SST database as shown in the tutorial.\n",
    "\n",
    "Your results should include:\n",
    "- Everything written in the **Guidelines** above.\n",
    "- A comparative analysis: compare the baseline to the improved model. Compare in terms of overall classification accuracy and show a multiclass confusion matrix.\n",
    "- Visualize of the attention maps for a few movie reviews from each class, and explain the results."
   ]
  },
  {
   "cell_type": "code",
   "execution_count": 1,
   "metadata": {},
   "outputs": [
    {
     "name": "stdout",
     "output_type": "stream",
     "text": [
      "Requirement already satisfied: torchsummary in /home/shai.kimhi/miniconda3/envs/cs236781-hw/lib/python3.8/site-packages (1.5.1)\n"
     ]
    },
    {
     "data": {
      "text/plain": [
       "device(type='cuda')"
      ]
     },
     "execution_count": 1,
     "metadata": {},
     "output_type": "execute_result"
    }
   ],
   "source": [
    "# Setup\n",
    "%matplotlib inline\n",
    "!pip install torchsummary\n",
    "from torchsummary import summary\n",
    "\n",
    "import os\n",
    "import sys\n",
    "import time\n",
    "import torch\n",
    "import matplotlib.pyplot as plt\n",
    "import warnings\n",
    "import torch.nn as nn\n",
    "import numpy as np\n",
    "warnings.simplefilter(\"ignore\")\n",
    "plt.rcParams['font.size'] = 20\n",
    "data_dir = os.path.expanduser('~/.pytorch-datasets')\n",
    "device = torch.device('cuda' if torch.cuda.is_available() else 'cpu')\n",
    "device"
   ]
  },
  {
   "cell_type": "markdown",
   "metadata": {},
   "source": [
    "**Dataset**<br/>\n",
    "We would like to test a recurrent model over varios datasets.<br/>\n",
    "We use torchtext package to load SST dataset (3 classes, like recitation and 5 classes, like the paper linked above).<br/>\n",
    "We decided to use bucket iterator, as presented in the recitation, since it minimize pad tokens and popular in NLP projects."
   ]
  },
  {
   "cell_type": "code",
   "execution_count": 2,
   "metadata": {},
   "outputs": [],
   "source": [
    "import torchtext.data\n",
    "from torchtext.vocab import Vectors, GloVe\n",
    "import torchtext.datasets\n",
    "BATCH_SIZE = 32\n",
    "\n",
    "def load_dataset(name='SST', classes=3):\n",
    "    review_parser = torchtext.data.Field(\n",
    "        sequential=True, use_vocab=True, lower=True,\n",
    "        init_token='<sos>', eos_token='<eos>', dtype=torch.long,\n",
    "        tokenize='spacy', tokenizer_language='en_core_web_sm')\n",
    "    # This Field object converts the text labels into numeric values (0,1,2)\n",
    "    label_parser = torchtext.data.Field(\n",
    "        is_target=True, sequential=False, unk_token=None, use_vocab=True\n",
    "    )\n",
    "\n",
    "    if name=='SST':\n",
    "        fine_grained = False\n",
    "        if classes==5:\n",
    "            fine_grained = True\n",
    "            \n",
    "        #3 classes SST\n",
    "        ds_train, ds_valid, ds_test = torchtext.datasets.SST.splits(\n",
    "            review_parser, label_parser, root=data_dir,fine_grained=fine_grained)\n",
    "\n",
    "        print(f'Number of training samples: {len(ds_train)}')\n",
    "        print(f'Number of test     samples: {len(ds_test)}')\n",
    "    #build the vocabulary:\n",
    "    review_parser.build_vocab(ds_train,vectors=GloVe(name='6B', dim=300))\n",
    "    label_parser.build_vocab(ds_train)\n",
    "    word_embeddings = review_parser.vocab.vectors\n",
    "    word_embeddings = word_embeddings.to(device=device)\n",
    "        \n",
    "        \n",
    "    # BucketIterator creates batches with samples of similar length\n",
    "    # to minimize the number of <pad> tokens in the batch.\n",
    "    dl_train, dl_valid, dl_test = torchtext.data.BucketIterator.splits((ds_train, ds_valid, ds_test), batch_size=BATCH_SIZE,shuffle=True, device=device)\n",
    "    train_iter, valid_iter, test_iter = torchtext.data.BucketIterator.splits((ds_train, ds_valid, ds_test), batch_size=BATCH_SIZE, sort_key=lambda x: len(x.text), repeat=False, shuffle=True)\n",
    "    return word_embeddings,train_iter, valid_iter, test_iter"
   ]
  },
  {
   "cell_type": "code",
   "execution_count": 3,
   "metadata": {},
   "outputs": [
    {
     "name": "stdout",
     "output_type": "stream",
     "text": [
      "Number of training samples: 8544\n",
      "Number of test     samples: 2210\n",
      "Number of training samples: 8544\n",
      "Number of test     samples: 2210\n"
     ]
    }
   ],
   "source": [
    "word_embeddings,train_iter, valid_iter, test_iter = load_dataset(name='SST', classes=3)\n",
    "word_embeddings_5,train_iter_5, valid_iter_5, test_iter_5 = load_dataset(name='SST', classes=5)"
   ]
  },
  {
   "cell_type": "markdown",
   "metadata": {},
   "source": [
    "## Baseline Model:\n",
    "For the implementation of the sentiment analysis basic model, we used bidirectional GRU,<br/>\n",
    "the reason we chose it is to avoid the vanishing gradients problem that accure when one might use a simple RNN.<br/>\n",
    "\n",
    "Lets load the model and show the architecture summary. note that all architectures of network are implemented in the project directory.<br/>\n",
    "The hyper-parameters were tuned using a grid search in the notebook Hype_Parameters.ipynb (batch size, hidden dim, num of layers and lr).<br/>\n",
    "Embedding dimension is predefined by GloVe model, the input dimension is dependant of the dataset as well as the output dimension."
   ]
  },
  {
   "cell_type": "code",
   "execution_count": 4,
   "metadata": {},
   "outputs": [
    {
     "data": {
      "text/plain": [
       "torch.Size([43, 32])"
      ]
     },
     "execution_count": 4,
     "metadata": {},
     "output_type": "execute_result"
    }
   ],
   "source": [
    "batch = next(iter(train_iter))\n",
    "X, y = batch.text, batch.label\n",
    "X.shape"
   ]
  },
  {
   "cell_type": "code",
   "execution_count": 5,
   "metadata": {},
   "outputs": [
    {
     "name": "stdout",
     "output_type": "stream",
     "text": [
      "Baseline model (3-classes):SentimentAnalyzer(\n",
      "  (embd): Embedding(15482, 300)\n",
      "  (rnn): GRU(300, 128, num_layers=2, bidirectional=True)\n",
      "  (sentiment): Linear(in_features=256, out_features=3, bias=True)\n",
      "  (log_softmax): LogSoftmax(dim=1)\n",
      ")\n"
     ]
    }
   ],
   "source": [
    "from project.Analyzer import SentimentAnalyzer\n",
    "from project.Attention import AttentionAnalyzer\n",
    "\n",
    "VOC_DIM = word_embeddings.shape[0]\n",
    "EMBEDDING_DIM = 300\n",
    "HIDDEN_DIM = 128\n",
    "OUTPUT_DIM = 3,5 #5\n",
    "NUM_LAYERS = 2\n",
    "#We WILL instantiate two models, one for the fine grained dataset and one for the 3-classes dataset\n",
    "model3 = SentimentAnalyzer(VOC_DIM, EMBEDDING_DIM, HIDDEN_DIM, OUTPUT_DIM[0], word_embeddings, layers=NUM_LAYERS).to(device)\n",
    "model5 = SentimentAnalyzer(VOC_DIM, EMBEDDING_DIM, HIDDEN_DIM, OUTPUT_DIM[1], word_embeddings_5, layers=NUM_LAYERS).to(device)\n",
    "\n",
    "print(f\"Baseline model (3-classes):{model3}\")"
   ]
  },
  {
   "cell_type": "markdown",
   "metadata": {},
   "source": [
    "The model contain pre-trained embedding, bidirectional GRU as RNN, then a FC layer from the hidden dimantion to the output, and a  log softmax layer for logits (so we can use NLLL loss later on).<br/><br/>"
   ]
  },
  {
   "cell_type": "code",
   "execution_count": 6,
   "metadata": {},
   "outputs": [
    {
     "name": "stdout",
     "output_type": "stream",
     "text": [
      "The Baseline model for SST-3 has 627,459 trainable weights, and the Baseline model for SST-5 has 627,973 trainable weights.\n"
     ]
    }
   ],
   "source": [
    "def count_parameters(model):\n",
    "    return sum(p.numel() for p in model.parameters() if p.requires_grad)\n",
    "print(f'The Baseline model for SST-3 has {count_parameters(model3):,} trainable weights, and the Baseline model for SST-5 has {count_parameters(model5):,} trainable weights.')"
   ]
  },
  {
   "cell_type": "markdown",
   "metadata": {},
   "source": [
    "*Note* : The 5-classes classifier has more weights as the last layer linking from the recurrent hidden states to the classes scores has dim-1 of size 5 unlike the 3-classes classifier which has a layer with dim-1 of size 3."
   ]
  },
  {
   "cell_type": "markdown",
   "metadata": {},
   "source": [
    "Defining the hyperparameters and checkpoints file for the training of the model:"
   ]
  },
  {
   "cell_type": "code",
   "execution_count": 7,
   "metadata": {},
   "outputs": [],
   "source": [
    "checkpoint = 'project/Models/SST3_RNN'\n",
    "checkpoint_attn =''# 'project/Models/ATTN'\n",
    "learning_rate = 1e-4\n",
    "batch_size = BATCH_SIZE\n",
    "hidden_size = HIDDEN_DIM\n",
    "embedding_length = EMBEDDING_DIM\n",
    "EPOCHS = 30\n",
    "\n",
    "checkpoint_file = os.path.join(os.getcwd(), checkpoint)"
   ]
  },
  {
   "cell_type": "code",
   "execution_count": 8,
   "metadata": {},
   "outputs": [],
   "source": [
    "from project.Trainer import train_and_eval, present_accuracy,print_stats"
   ]
  },
  {
   "cell_type": "markdown",
   "metadata": {},
   "source": [
    "***Training the baseline model over the SST-3 dataset***"
   ]
  },
  {
   "cell_type": "code",
   "execution_count": 9,
   "metadata": {},
   "outputs": [
    {
     "name": "stdout",
     "output_type": "stream",
     "text": [
      "*** Loading final checkpoint file project/Models/SST3_RNN.pt (not training)\n"
     ]
    }
   ],
   "source": [
    "optimizer = torch.optim.Adam(model3.parameters(), lr=learning_rate)\n",
    "loss_fn = nn.NLLLoss()\n",
    "# Train, unless final checkpoint is found\n",
    "checkpoint_file_final = f'{checkpoint}.pt'\n",
    "if os.path.isfile(checkpoint_file_final):\n",
    "    print(f'*** Loading final checkpoint file {checkpoint_file_final} (not training)')\n",
    "    saved_state = torch.load(checkpoint_file_final, map_location=device)\n",
    "    model3.load_state_dict(saved_state['model_state'])\n",
    "else:\n",
    "    try: \n",
    "        train_accur, test_accur = train_and_eval(model3,train_iter, test_iter, optimizer, loss_fn=loss_fn, epochs=EPOCHS,name='RNN',data_name = 'SST3')\n",
    "    except KeyboardInterrupt as e:\n",
    "        print('\\n *** Training interrupted by user')\n"
   ]
  },
  {
   "cell_type": "code",
   "execution_count": 10,
   "metadata": {},
   "outputs": [
    {
     "name": "stdout",
     "output_type": "stream",
     "text": [
      "Test accuracy: 65.520%\n"
     ]
    },
    {
     "data": {
      "image/png": "[encoded data removed]",
      "text/plain": [
       "<Figure size 576x432 with 1 Axes>"
      ]
     },
     "metadata": {
      "needs_background": "light"
     },
     "output_type": "display_data"
    },
    {
     "data": {
      "text/plain": [
       "65.52036199095022"
      ]
     },
     "execution_count": 10,
     "metadata": {},
     "output_type": "execute_result"
    }
   ],
   "source": [
    "present_accuracy(model3, test_iter,classes=3)"
   ]
  },
  {
   "cell_type": "markdown",
   "metadata": {},
   "source": [
    "Here we can see the final accuracy, alongside with the confusion matrix <br/><br/>\n",
    "\n",
    "The model is slightly overfitting, as the trainin accuracy is higher then the test accuracy.<br/>\n",
    "Alongside with that, the confusion matrix show us that the neutral class have the most mistakes, while for positive and negative the model is pretty accurate, it does not know how to classify the neutral examples.<br/>\n",
    "This phenomenan is familiar and make sence, since even for humen beeinn like us it's hard to say when something is nither good of bad.<br/><br/>\n",
    "\n",
    "to support this claim, we provide some more statistics below, alongside with Precision, Recall and F1 score\n",
    "and show that the F1 for neutral is extreamly low compare to the rest of the model accuracy.\n"
   ]
  },
  {
   "cell_type": "code",
   "execution_count": 11,
   "metadata": {},
   "outputs": [
    {
     "name": "stdout",
     "output_type": "stream",
     "text": [
      "              precision    recall  f1-score   support\n",
      "\n",
      "           0      0.650     0.838     0.732       909\n",
      "           1      0.661     0.752     0.704       912\n",
      "           2      0.000     0.000     0.000       389\n",
      "\n",
      "    accuracy                          0.655      2210\n",
      "   macro avg      0.437     0.530     0.479      2210\n",
      "weighted avg      0.540     0.655     0.592      2210\n",
      "\n"
     ]
    }
   ],
   "source": [
    "print_stats(model3, test_iter,classes=3)"
   ]
  },
  {
   "cell_type": "markdown",
   "metadata": {},
   "source": [
    "## Training on SST-5:\n",
    "We will now train the same model on the fine grained SST to see how it performs on a more difficult task"
   ]
  },
  {
   "cell_type": "code",
   "execution_count": 12,
   "metadata": {},
   "outputs": [
    {
     "name": "stdout",
     "output_type": "stream",
     "text": [
      "*** Loading final checkpoint file project/Models/SST5_RNN.pt (not training)\n"
     ]
    }
   ],
   "source": [
    "checkpoint = 'project/Models/SST5_RNN'\n",
    "optimizer = torch.optim.Adam(model5.parameters(), lr=learning_rate)\n",
    "checkpoint_file_final = f'{checkpoint}.pt'\n",
    "if os.path.isfile(checkpoint_file_final):\n",
    "    print(f'*** Loading final checkpoint file {checkpoint_file_final} (not training)')\n",
    "    saved_state = torch.load(checkpoint_file_final, map_location=device)\n",
    "    model5.load_state_dict(saved_state['model_state'])\n",
    "else:\n",
    "    try: \n",
    "        train_accur, test_accur = train_and_eval(model5,train_iter_5, test_iter_5, optimizer, loss_fn=loss_fn, epochs=EPOCHS,name='RNN',data_name = 'SST5')\n",
    "    except KeyboardInterrupt as e:\n",
    "        print('\\n *** Training interrupted by user')"
   ]
  },
  {
   "cell_type": "code",
   "execution_count": 13,
   "metadata": {},
   "outputs": [
    {
     "name": "stdout",
     "output_type": "stream",
     "text": [
      "Test accuracy: 44.932%\n"
     ]
    },
    {
     "data": {
      "image/png": "[encoded data removed]",
      "text/plain": [
       "<Figure size 576x432 with 1 Axes>"
      ]
     },
     "metadata": {
      "needs_background": "light"
     },
     "output_type": "display_data"
    },
    {
     "data": {
      "text/plain": [
       "44.93212669683258"
      ]
     },
     "execution_count": 13,
     "metadata": {},
     "output_type": "execute_result"
    }
   ],
   "source": [
    "present_accuracy(model5, test_iter_5,classes=5)"
   ]
  },
  {
   "cell_type": "markdown",
   "metadata": {},
   "source": [
    "Here we show the accuracy and confusion matrix as before.<br/><br/>\n",
    "We would also show the same statistical attributes as before"
   ]
  },
  {
   "cell_type": "code",
   "execution_count": 14,
   "metadata": {},
   "outputs": [
    {
     "name": "stdout",
     "output_type": "stream",
     "text": [
      "              precision    recall  f1-score   support\n",
      "\n",
      "           0    0.41278   0.60784   0.49167       510\n",
      "           1    0.44663   0.68088   0.53942       633\n",
      "           2    0.54545   0.03085   0.05839       389\n",
      "           3    0.65426   0.30827   0.41908       399\n",
      "           4    0.41197   0.41935   0.41563       279\n",
      "\n",
      "    accuracy                        0.44932      2210\n",
      "   macro avg    0.49422   0.40944   0.38484      2210\n",
      "weighted avg    0.48932   0.44932   0.40638      2210\n",
      "\n"
     ]
    }
   ],
   "source": [
    "print_stats(model5, test_iter_5,classes=5)"
   ]
  },
  {
   "cell_type": "markdown",
   "metadata": {},
   "source": [
    "## Self Attention Model\n",
    "We've tried to overcome this results by using a self attention mechanisem.<br/>\n",
    "This model has an attention layer, ontop of the GRU baed rnn, so the representation of each token hidden state concate with the Attention head\n",
    "We based this implementation on \"Self-Attention-Based BiLSTM Model for Short Text Fine-Grained Sentiment Classification\" of xie et el since it achive better results.\n",
    "\n",
    "\n",
    "<img src =\"AttnModel\"/>"
   ]
  },
  {
   "cell_type": "code",
   "execution_count": 15,
   "metadata": {},
   "outputs": [
    {
     "name": "stdout",
     "output_type": "stream",
     "text": [
      "Attention model:AttentionAnalyzer(\n",
      "  (embd): Embedding(15482, 300)\n",
      "  (rnn): GRU(300, 128, num_layers=2, bidirectional=True)\n",
      "  (W_s1): Linear(in_features=256, out_features=256, bias=True)\n",
      "  (AttnDrop): Dropout(p=0.0, inplace=False)\n",
      "  (W_s2): Linear(in_features=256, out_features=1, bias=True)\n",
      "  (sentiment): Linear(in_features=256, out_features=3, bias=True)\n",
      "  (log_softmax): LogSoftmax(dim=1)\n",
      ")\n",
      "The Attention model has 693,508 trainable weights.\n"
     ]
    }
   ],
   "source": [
    "attnModel = AttentionAnalyzer(VOC_DIM, EMBEDDING_DIM, HIDDEN_DIM, OUTPUT_DIM[0], word_embeddings, layers=NUM_LAYERS).to(device) #attention model for SST3\n",
    "print(f\"Attention model:{attnModel}\")\n",
    "print(f'The Attention model has {count_parameters(attnModel):,} trainable weights.')"
   ]
  },
  {
   "cell_type": "markdown",
   "metadata": {},
   "source": [
    "*Training the model with attention*"
   ]
  },
  {
   "cell_type": "code",
   "execution_count": 16,
   "metadata": {},
   "outputs": [
    {
     "name": "stdout",
     "output_type": "stream",
     "text": [
      "Epoch #0(Train), loss=0.987, accuracy=0.510, elapsed=2.7 sec\n",
      "Epoch #0(Test), accuracy=0.625, elapsed=2.9 sec\n",
      "*** Saved checkpoint project/Models/SST3_Attention.pt at epoch 1\n",
      "Epoch #1(Train), loss=0.829, accuracy=0.639, elapsed=2.7 sec\n",
      "Epoch #1(Test), accuracy=0.665, elapsed=2.9 sec\n",
      "*** Saved checkpoint project/Models/SST3_Attention.pt at epoch 2\n",
      "Epoch #2(Train), loss=0.785, accuracy=0.661, elapsed=2.8 sec\n",
      "Epoch #2(Test), accuracy=0.661, elapsed=3.0 sec\n",
      "Epoch #3(Train), loss=0.762, accuracy=0.671, elapsed=2.7 sec\n",
      "Epoch #3(Test), accuracy=0.671, elapsed=2.9 sec\n",
      "*** Saved checkpoint project/Models/SST3_Attention.pt at epoch 4\n",
      "Epoch #4(Train), loss=0.745, accuracy=0.675, elapsed=2.7 sec\n",
      "Epoch #4(Test), accuracy=0.668, elapsed=2.9 sec\n",
      "Epoch #5(Train), loss=0.729, accuracy=0.688, elapsed=2.7 sec\n",
      "Epoch #5(Test), accuracy=0.671, elapsed=2.9 sec\n",
      "*** Saved checkpoint project/Models/SST3_Attention.pt at epoch 6\n",
      "Epoch #6(Train), loss=0.712, accuracy=0.692, elapsed=2.8 sec\n",
      "Epoch #6(Test), accuracy=0.672, elapsed=2.9 sec\n",
      "*** Saved checkpoint project/Models/SST3_Attention.pt at epoch 7\n",
      "Epoch #7(Train), loss=0.698, accuracy=0.701, elapsed=2.7 sec\n",
      "Epoch #7(Test), accuracy=0.658, elapsed=2.9 sec\n",
      "Epoch #8(Train), loss=0.683, accuracy=0.708, elapsed=2.7 sec\n",
      "Epoch #8(Test), accuracy=0.673, elapsed=2.9 sec\n",
      "*** Saved checkpoint project/Models/SST3_Attention.pt at epoch 9\n",
      "Epoch #9(Train), loss=0.664, accuracy=0.714, elapsed=2.7 sec\n",
      "Epoch #9(Test), accuracy=0.670, elapsed=2.9 sec\n",
      "Epoch #10(Train), loss=0.646, accuracy=0.723, elapsed=2.8 sec\n",
      "Epoch #10(Test), accuracy=0.673, elapsed=2.9 sec\n",
      "*** Saved checkpoint project/Models/SST3_Attention.pt at epoch 11\n",
      "Epoch #11(Train), loss=0.630, accuracy=0.733, elapsed=2.8 sec\n",
      "Epoch #11(Test), accuracy=0.662, elapsed=3.0 sec\n",
      "Epoch #12(Train), loss=0.608, accuracy=0.739, elapsed=2.7 sec\n",
      "Epoch #12(Test), accuracy=0.660, elapsed=2.9 sec\n",
      "Epoch #13(Train), loss=0.586, accuracy=0.751, elapsed=2.7 sec\n",
      "Epoch #13(Test), accuracy=0.666, elapsed=2.9 sec\n",
      "Epoch #14(Train), loss=0.568, accuracy=0.758, elapsed=2.7 sec\n",
      "Epoch #14(Test), accuracy=0.657, elapsed=2.9 sec\n",
      "Epoch #15(Train), loss=0.543, accuracy=0.773, elapsed=2.7 sec\n",
      "Epoch #15(Test), accuracy=0.658, elapsed=2.9 sec\n",
      "Epoch #16(Train), loss=0.523, accuracy=0.783, elapsed=2.7 sec\n",
      "Epoch #16(Test), accuracy=0.663, elapsed=2.9 sec\n",
      "Epoch #17(Train), loss=0.504, accuracy=0.787, elapsed=2.8 sec\n",
      "Epoch #17(Test), accuracy=0.627, elapsed=2.9 sec\n",
      "Epoch #18(Train), loss=0.482, accuracy=0.799, elapsed=2.8 sec\n",
      "Epoch #18(Test), accuracy=0.653, elapsed=2.9 sec\n",
      "Epoch #19(Train), loss=0.469, accuracy=0.805, elapsed=2.7 sec\n",
      "Epoch #19(Test), accuracy=0.644, elapsed=2.9 sec\n",
      "Epoch #20(Train), loss=0.442, accuracy=0.819, elapsed=2.7 sec\n",
      "Epoch #20(Test), accuracy=0.632, elapsed=2.9 sec\n",
      "Epoch #21(Train), loss=0.421, accuracy=0.827, elapsed=2.7 sec\n",
      "Epoch #21(Test), accuracy=0.626, elapsed=2.9 sec\n",
      "Epoch #22(Train), loss=0.407, accuracy=0.838, elapsed=2.7 sec\n",
      "Epoch #22(Test), accuracy=0.638, elapsed=2.9 sec\n",
      "Epoch #23(Train), loss=0.384, accuracy=0.845, elapsed=2.7 sec\n",
      "Epoch #23(Test), accuracy=0.645, elapsed=2.9 sec\n",
      "Epoch #24(Train), loss=0.363, accuracy=0.854, elapsed=2.7 sec\n",
      "Epoch #24(Test), accuracy=0.621, elapsed=2.9 sec\n",
      "Epoch #25(Train), loss=0.349, accuracy=0.863, elapsed=2.8 sec\n",
      "Epoch #25(Test), accuracy=0.621, elapsed=2.9 sec\n",
      "Epoch #26(Train), loss=0.324, accuracy=0.871, elapsed=2.7 sec\n",
      "Epoch #26(Test), accuracy=0.614, elapsed=2.9 sec\n",
      "Epoch #27(Train), loss=0.320, accuracy=0.877, elapsed=2.7 sec\n",
      "Epoch #27(Test), accuracy=0.627, elapsed=2.9 sec\n",
      "Epoch #28(Train), loss=0.318, accuracy=0.878, elapsed=2.8 sec\n",
      "Epoch #28(Test), accuracy=0.630, elapsed=2.9 sec\n",
      "Epoch #29(Train), loss=0.279, accuracy=0.894, elapsed=2.8 sec\n",
      "Epoch #29(Test), accuracy=0.633, elapsed=3.0 sec\n"
     ]
    }
   ],
   "source": [
    "optimizer = torch.optim.Adam(attnModel.parameters(), lr=learning_rate)\n",
    "loss_fn = nn.NLLLoss()\n",
    "# Train, unless final checkpoint is found\n",
    "checkpoint_file_final = f'{checkpoint_attn}.pt'\n",
    "if os.path.isfile(checkpoint_file_final):\n",
    "    print(f'*** Loading final checkpoint file {checkpoint_file_final} (not training)')\n",
    "    saved_state = torch.load(checkpoint_file_final, map_location=device)\n",
    "    attnModel.load_state_dict(saved_state['model_state'])\n",
    "else:\n",
    "    try:\n",
    "        train_and_eval(attnModel,train_iter, test_iter, optimizer, loss_fn=loss_fn, epochs=EPOCHS,name='Attention',data_name = 'SST3')\n",
    "\n",
    "    except KeyboardInterrupt as e:\n",
    "        print('\\n *** Training interrupted by user')"
   ]
  },
  {
   "cell_type": "code",
   "execution_count": 17,
   "metadata": {},
   "outputs": [
    {
     "name": "stdout",
     "output_type": "stream",
     "text": [
      "Test accuracy: 68.235%\n"
     ]
    },
    {
     "data": {
      "image/png": "[encoded data removed]",
      "text/plain": [
       "<Figure size 576x432 with 1 Axes>"
      ]
     },
     "metadata": {
      "needs_background": "light"
     },
     "output_type": "display_data"
    },
    {
     "name": "stdout",
     "output_type": "stream",
     "text": [
      "              precision    recall  f1-score   support\n",
      "\n",
      "           0      0.686     0.843     0.757       909\n",
      "           1      0.688     0.791     0.736       912\n",
      "           2      0.457     0.054     0.097       389\n",
      "\n",
      "    accuracy                          0.682      2210\n",
      "   macro avg      0.610     0.562     0.530      2210\n",
      "weighted avg      0.647     0.682     0.632      2210\n",
      "\n"
     ]
    }
   ],
   "source": [
    "present_accuracy(attnModel, test_iter,classes=3)\n",
    "print_stats(attnModel, test_iter,classes=3)"
   ]
  },
  {
   "cell_type": "markdown",
   "metadata": {},
   "source": [
    "## Spectrally-Normalized Wasserstein GANs"
   ]
  },
  {
   "cell_type": "markdown",
   "metadata": {},
   "source": [
    "In HW3 we implemented a simple GANs from scratch, using an approach very similar to the original GAN paper. However, the results left much to be desired and we discovered first-hand how hard it is to train GANs due to their inherent instability.\n",
    "\n",
    "One of the prevailing approaches for improving training stability for GANs is to use a technique called [Spectral Normalization](https://arxiv.org/pdf/1802.05957.pdf) to normalize the largest singular value of a weight matrix so that it equals 1.\n",
    "This approach is generally applied to the discriminator's weights in order to stabilize training. The resulting model is sometimes referred to as a SN-GAN.\n",
    "See Appendix A in the linked paper for the exact algorithm. You can also use pytorch's `spectral_norm`.\n",
    "\n",
    "Another very common improvement to the vanilla GAN is known a [Wasserstein GAN](https://arxiv.org/pdf/1701.07875.pdf) (WGAN). It uses a simple modification to the loss function, with strong theoretical justifications based on the Wasserstein (earth-mover's) distance.\n",
    "See also [here](https://developers.google.com/machine-learning/gan/loss) for a brief explanation of this loss function.\n",
    "\n",
    "One problem with generative models for images is that it's difficult to objectively assess the quality of the resulting images.\n",
    "To also obtain a quantitative score for the images generated by each model,\n",
    "we'll use the [Inception Score](https://arxiv.org/pdf/1606.03498.pdf).\n",
    "This uses a pre-trained Inception CNN model on the generated images and computes a score based on the predicted probability for each class.\n",
    "Although not a perfect proxy for subjective quality, it's commonly used a way to compare generative models.\n",
    "You can use an implementation of this score that you find online, e.g. [this one](https://github.com/sbarratt/inception-score-pytorch) or implement it yourself.\n",
    "\n",
    "Based on the linked papers, add Spectral Normalization and the Wassertein loss to your GAN from HW3.\n",
    "Compare between:\n",
    "- The baseline model (vanilla GAN)\n",
    "- SN-GAN (vanilla + Spectral Normalization)\n",
    "- WGAN (using Wasserstein Loss)\n",
    "- Optional: SN+WGAN, i.e. a combined model using both modifications.\n",
    "\n",
    "As a dataset, you can use [LFW](http://vis-www.cs.umass.edu/lfw/) as in HW3 or [CelebA](http://mmlab.ie.cuhk.edu.hk/projects/CelebA.html), or even choose a custom dataset (note that there's a dataloder for CelebA in `torchvision`). \n",
    "\n",
    "Your results should include:\n",
    "- Everything written in the **Guidelines** above.\n",
    "- A comparative analysis between the baseline and the other models. Compare:\n",
    "  - Subjective quality (show multiple generated images from each model)\n",
    "  - Inception score (can use a subset of the data).\n",
    "- You should show substantially improved subjective visual results with these techniques."
   ]
  },
  {
   "cell_type": "markdown",
   "metadata": {},
   "source": [
    "## Implementation"
   ]
  },
  {
   "cell_type": "markdown",
   "metadata": {},
   "source": [
    "**TODO**: This is where you should write your explanations and implement the code to display the results.\n",
    "See guidelines about what to include in this section."
   ]
  },
  {
   "cell_type": "code",
   "execution_count": null,
   "metadata": {},
   "outputs": [],
   "source": []
  },
  {
   "cell_type": "code",
   "execution_count": null,
   "metadata": {},
   "outputs": [],
   "source": []
  }
 ],
 "metadata": {
  "kernelspec": {
   "display_name": "Python 3",
   "language": "python",
   "name": "python3"
  },
  "language_info": {
   "codemirror_mode": {
    "name": "ipython",
    "version": 3
   },
   "file_extension": ".py",
   "mimetype": "text/x-python",
   "name": "python",
   "nbconvert_exporter": "python",
   "pygments_lexer": "ipython3",
   "version": "3.8.6"
  }
 },
 "nbformat": 4,
 "nbformat_minor": 4
}
