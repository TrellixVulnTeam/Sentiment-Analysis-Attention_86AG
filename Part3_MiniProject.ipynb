{
 "cells": [
  {
   "cell_type": "markdown",
   "metadata": {},
   "source": [
    "$$\n",
    "\\newcommand{\\mat}[1]{\\boldsymbol {#1}}\n",
    "\\newcommand{\\mattr}[1]{\\boldsymbol {#1}^\\top}\n",
    "\\newcommand{\\matinv}[1]{\\boldsymbol {#1}^{-1}}\n",
    "\\newcommand{\\vec}[1]{\\boldsymbol {#1}}\n",
    "\\newcommand{\\vectr}[1]{\\boldsymbol {#1}^\\top}\n",
    "\\newcommand{\\rvar}[1]{\\mathrm {#1}}\n",
    "\\newcommand{\\rvec}[1]{\\boldsymbol{\\mathrm{#1}}}\n",
    "\\newcommand{\\diag}{\\mathop{\\mathrm {diag}}}\n",
    "\\newcommand{\\set}[1]{\\mathbb {#1}}\n",
    "\\newcommand{\\cset}[1]{\\mathcal{#1}}\n",
    "\\newcommand{\\norm}[1]{\\left\\lVert#1\\right\\rVert}\n",
    "\\newcommand{\\pderiv}[2]{\\frac{\\partial #1}{\\partial #2}}\n",
    "\\newcommand{\\bb}[1]{\\boldsymbol{#1}}\n",
    "\\newcommand{\\E}[2][]{\\mathbb{E}_{#1}\\left[#2\\right]}\n",
    "\\newcommand{\\ip}[3]{\\left<#1,#2\\right>_{#3}}\n",
    "\\newcommand{\\given}[]{\\,\\middle\\vert\\,}\n",
    "\\newcommand{\\DKL}[2]{\\cset{D}_{\\text{KL}}\\left(#1\\,\\Vert\\, #2\\right)}\n",
    "\\newcommand{\\grad}[]{\\nabla}\n",
    "$$\n",
    "\n",
    "# Part 3: Mini-Project\n",
    "<a id=part3></a>"
   ]
  },
  {
   "cell_type": "markdown",
   "metadata": {},
   "source": [
    "In this part you'll implement a small comparative-analysis project, heavily based on the materials from the tutorials and homework.\n",
    "\n",
    "You must **choose one** of the project options specified below."
   ]
  },
  {
   "cell_type": "markdown",
   "metadata": {},
   "source": [
    "### Guidelines"
   ]
  },
  {
   "cell_type": "markdown",
   "metadata": {},
   "source": [
    "- You should implement the code which displays your results in this notebook, and add any additional code files for your implementation in the `project/` directory. You can import these files here, as we do for the homeworks.\n",
    "- Running this notebook should not perform any training - load your results from some output files and display them here. The notebook must be runnable from start to end without errors.\n",
    "- You must include a detailed write-up (in the notebook) of what you implemented and how. \n",
    "- Explain the structure of your code and how to run it to reproduce your results.\n",
    "- Explicitly state any external code you used, including built-in pytorch models and code from the course tutorials/homework.\n",
    "- Analyze your numerical results, explaining **why** you got these results (not just specifying the results).\n",
    "- Where relevant, place all results in a table or display them using a graph.\n",
    "- Before submitting, make sure all files which are required to run this notebook are included in the generated submission zip.\n",
    "- Try to keep the submission file size under 10MB. Do not include model checkpoint files, dataset files, or any other non-essentials files. Instead include your results as images/text files/pickles/etc, and load them for display in this notebook. "
   ]
  },
  {
   "cell_type": "markdown",
   "metadata": {},
   "source": [
    "## Sentiment Analysis with Self-Attention and Word Embeddings"
   ]
  },
  {
   "cell_type": "markdown",
   "metadata": {},
   "source": [
    "Based on Tutorials 6 and 7, we'll implement and train an improved sentiment analysis model.\n",
    "We'll use self-attention instead of RNNs and incorporate pre-trained word embeddings.\n",
    "\n",
    "In tutorial 6 we saw that we can train word embeddings together with the model.\n",
    "Although this produces embeddings which are customized to the specific task at hand,\n",
    "it also greatly increases training time.\n",
    "A common technique is to use pre-trained word embeddings.\n",
    "This is essentially a large mapping from words (e.g. in english) to some\n",
    "high-dimensional vector, such that semantically similar words have an embedding that is\n",
    "\"close\" by some metric (e.g. cosine distance).\n",
    "Use the [GloVe](https://nlp.stanford.edu/projects/glove/) 6B embeddings for this purpose.\n",
    "You can load these vectors into the weights of an `nn.Embedding` layer.\n",
    "\n",
    "In tutorial 7 we learned how attention can be used to learn to predict a relative importance\n",
    "for each element in a sequence, compared to the other elements.\n",
    "Here, we'll replace the RNN with self-attention only approach similar to Transformer models, roughly based on [this paper](https://www.aclweb.org/anthology/W18-6219.pdf).\n",
    "After embedding each word in the sentence using the pre-trained word-embedding a positional-encoding vector is added to provide each word in the sentence a unique value based on it's location.\n",
    "One or more self-attention layers are then applied to the results, to obtain an importance weighting for each word.\n",
    "Then we classify the sentence based on the average these weighted encodings.\n",
    "\n",
    "\n",
    "Now, using these approaches, you need to:\n",
    "\n",
    "- Implement a **baseline** model: Use pre-trained embeddings with an RNN-based model.\n",
    "You can use LSTM/GRU or bi-directional versions of these, in a way very similar to what we implemented in the tutorial.\n",
    "-  Implement an **improved** model: Based on the self-attention approach, implement an attention-based sentiment analysis model that has 1-2 self-attention layers instead of an RNN. You should use the same pre-trained word embeddings for this model.\n",
    "- You can use pytorch's built-in RNNs, attention layers, etc.\n",
    "- For positional encoding you can use the sinosoidal approach described in the paper (first proposed [here](https://arxiv.org/pdf/1706.03762.pdf)). You can use existing online implementations (even though it's straightforward to implement). \n",
    "- You can use the SST database as shown in the tutorial.\n",
    "\n",
    "Your results should include:\n",
    "- Everything written in the **Guidelines** above.\n",
    "- A comparative analysis: compare the baseline to the improved model. Compare in terms of overall classification accuracy and show a multiclass confusion matrix.\n",
    "- Visualize of the attention maps for a few movie reviews from each class, and explain the results."
   ]
  },
  {
   "cell_type": "code",
   "execution_count": 1,
   "metadata": {},
   "outputs": [
    {
     "data": {
      "text/plain": [
       "device(type='cuda')"
      ]
     },
     "execution_count": 1,
     "metadata": {},
     "output_type": "execute_result"
    }
   ],
   "source": [
    "# Setup\n",
    "%matplotlib inline\n",
    "import os\n",
    "import sys\n",
    "import time\n",
    "import torch\n",
    "import matplotlib.pyplot as plt\n",
    "import warnings\n",
    "import torch.nn as nn\n",
    "warnings.simplefilter(\"ignore\")\n",
    "plt.rcParams['font.size'] = 20\n",
    "data_dir = os.path.expanduser('~/.pytorch-datasets')\n",
    "device = torch.device('cuda' if torch.cuda.is_available() else 'cpu')\n",
    "device"
   ]
  },
  {
   "cell_type": "markdown",
   "metadata": {},
   "source": [
    "**Dataset**<br/>\n",
    "We will use torchtext package and the SST dataset as was used in tutorial 6 (Sequence Models). "
   ]
  },
  {
   "cell_type": "code",
   "execution_count": 2,
   "metadata": {},
   "outputs": [
    {
     "name": "stdout",
     "output_type": "stream",
     "text": [
      "Number of training samples: 8544\n",
      "Number of test     samples: 2210\n"
     ]
    }
   ],
   "source": [
    "import torchtext.data\n",
    "from torchtext.vocab import Vectors, GloVe\n",
    "\n",
    "review_parser = torchtext.data.Field(\n",
    "    sequential=True, use_vocab=True, lower=True,\n",
    "    init_token='<sos>', eos_token='<eos>', dtype=torch.long,\n",
    "    tokenize='spacy', tokenizer_language='en_core_web_sm'\n",
    ")\n",
    "\n",
    "# This Field object converts the text labels into numeric values (0,1,2)\n",
    "label_parser = torchtext.data.Field(\n",
    "    is_target=True, sequential=False, unk_token=None, use_vocab=True\n",
    ")\n",
    "import torchtext.datasets\n",
    "\n",
    "ds_train, ds_valid, ds_test = torchtext.datasets.SST.splits(\n",
    "    review_parser, label_parser, root=data_dir,fine_grained=False\n",
    ")\n",
    "\n",
    "n_train = len(ds_train)\n",
    "print(f'Number of training samples: {n_train}')\n",
    "print(f'Number of test     samples: {len(ds_test)}')\n"
   ]
  },
  {
   "cell_type": "markdown",
   "metadata": {},
   "source": [
    "We will build a vocabulary:"
   ]
  },
  {
   "cell_type": "code",
   "execution_count": 3,
   "metadata": {},
   "outputs": [],
   "source": [
    "review_parser.build_vocab(ds_train,vectors=GloVe(name='6B', dim=300))\n",
    "label_parser.build_vocab(ds_train)\n",
    "word_embeddings = review_parser.vocab.vectors\n",
    "word_embeddings = word_embeddings.to(device=device)"
   ]
  },
  {
   "cell_type": "markdown",
   "metadata": {},
   "source": [
    "**Dataloader**: we will use bucketIterator as dataloader to deal with reviews of different length"
   ]
  },
  {
   "cell_type": "code",
   "execution_count": 16,
   "metadata": {},
   "outputs": [],
   "source": [
    "BATCH_SIZE = 32 #hyper parameter, could be changed\n",
    "\n",
    "# BucketIterator creates batches with samples of similar length\n",
    "# to minimize the number of <pad> tokens in the batch.\n",
    "dl_train, dl_valid, dl_test = torchtext.data.BucketIterator.splits(\n",
    "    (ds_train, ds_valid, ds_test), batch_size=BATCH_SIZE,\n",
    "    shuffle=True, device=device)\n",
    "\n",
    "\n",
    "#train_iter, valid_iter, test_iter = torchtext.data.BucketIterator.splits((ds_train, ds_valid, ds_test), batch_size=BATCH_SIZE, sort_key=lambda x: len(x.text), repeat=False, shuffle=True)\n"
   ]
  },
  {
   "cell_type": "markdown",
   "metadata": {},
   "source": [
    "**Model:** we load the model and create an instance"
   ]
  },
  {
   "cell_type": "code",
   "execution_count": 35,
   "metadata": {},
   "outputs": [
    {
     "data": {
      "text/plain": [
       "AttentionAnalyzer(\n",
       "  (embd): Embedding(15482, 300)\n",
       "  (rnn): GRU(300, 128, num_layers=2, bidirectional=True)\n",
       "  (W_s1): Linear(in_features=256, out_features=350, bias=True)\n",
       "  (W_s2): Linear(in_features=350, out_features=30, bias=True)\n",
       "  (sentiment): Linear(in_features=7680, out_features=3, bias=True)\n",
       "  (log_softmax): LogSoftmax(dim=1)\n",
       ")"
      ]
     },
     "execution_count": 35,
     "metadata": {},
     "output_type": "execute_result"
    }
   ],
   "source": [
    "from project.Analyzer import SentimentAnalyzer\n",
    "from project.Attention import AttentionAnalyzer\n",
    "\n",
    "INPUT_DIM = len(review_parser.vocab)\n",
    "EMBEDDING_DIM = 300\n",
    "HIDDEN_DIM = 128\n",
    "OUTPUT_DIM = 3 #5\n",
    "\n",
    "model = SentimentAnalyzer(INPUT_DIM, EMBEDDING_DIM, HIDDEN_DIM, OUTPUT_DIM, word_embeddings, layers=2)\n",
    "attnModel = AttentionAnalyzer(INPUT_DIM, EMBEDDING_DIM, HIDDEN_DIM, OUTPUT_DIM, word_embeddings, layers=2)\n",
    "#model = RNN(32, 2, 256, len(review_parser.vocab), 300, word_embeddings)\n",
    "attnModel"
   ]
  },
  {
   "cell_type": "code",
   "execution_count": 6,
   "metadata": {},
   "outputs": [
    {
     "name": "stdout",
     "output_type": "stream",
     "text": [
      "The RNN model has 627,459 trainable weights.\n",
      "The Attention model has 750,211 trainable weights.\n"
     ]
    }
   ],
   "source": [
    "def count_parameters(model):\n",
    "    return sum(p.numel() for p in model.parameters() if p.requires_grad)\n",
    "\n",
    "print(f'The RNN model has {count_parameters(model):,} trainable weights.')\n",
    "print(f'The Attention model has {count_parameters(attnModel):,} trainable weights.')"
   ]
  },
  {
   "cell_type": "markdown",
   "metadata": {},
   "source": [
    "Defining the model, hyperparameters, device and checkpoints file"
   ]
  },
  {
   "cell_type": "code",
   "execution_count": 36,
   "metadata": {},
   "outputs": [],
   "source": [
    "\n",
    "checkpoint = 'checkpoints/RNN'\n",
    "checkpoint_attn = 'checkpoints/ATTN'\n",
    "learning_rate = 1e-4\n",
    "batch_size = BATCH_SIZE\n",
    "output_size = OUTPUT_DIM\n",
    "hidden_size = HIDDEN_DIM\n",
    "embedding_length = EMBEDDING_DIM\n",
    "EPOCHS = 20\n",
    "\n",
    "model = model.to(device)\n",
    "checkpoint_file = os.path.join(os.getcwd(), checkpoint)"
   ]
  },
  {
   "cell_type": "code",
   "execution_count": null,
   "metadata": {},
   "outputs": [
    {
     "name": "stdout",
     "output_type": "stream",
     "text": [
      "Train: Epoch #0, loss=1.092, accuracy=0.423, elapsed=3.9 sec\n",
      "Val: Epoch #0, loss=0.143, accuracy=0.396, elapsed=4.1 sec\n",
      "Train: Epoch #1, loss=1.092, accuracy=0.423, elapsed=3.9 sec\n",
      "Val: Epoch #1, loss=0.143, accuracy=0.396, elapsed=4.0 sec\n",
      "Train: Epoch #2, loss=1.092, accuracy=0.423, elapsed=4.0 sec\n",
      "Val: Epoch #2, loss=0.143, accuracy=0.396, elapsed=4.1 sec\n",
      "Train: Epoch #3, loss=1.092, accuracy=0.423, elapsed=3.9 sec\n",
      "Val: Epoch #3, loss=0.143, accuracy=0.396, elapsed=4.1 sec\n",
      "Train: Epoch #4, loss=1.092, accuracy=0.423, elapsed=3.9 sec\n",
      "Val: Epoch #4, loss=0.143, accuracy=0.396, elapsed=4.1 sec\n",
      "Train: Epoch #5, loss=1.092, accuracy=0.423, elapsed=3.9 sec\n",
      "Val: Epoch #5, loss=0.143, accuracy=0.396, elapsed=4.1 sec\n",
      "Train: Epoch #6, loss=1.092, accuracy=0.423, elapsed=3.9 sec\n",
      "Val: Epoch #6, loss=0.143, accuracy=0.396, elapsed=4.0 sec\n",
      "Train: Epoch #7, loss=1.092, accuracy=0.423, elapsed=3.9 sec\n",
      "Val: Epoch #7, loss=0.143, accuracy=0.396, elapsed=4.0 sec\n",
      "Train: Epoch #8, loss=1.092, accuracy=0.423, elapsed=4.0 sec\n",
      "Val: Epoch #8, loss=0.143, accuracy=0.396, elapsed=4.1 sec\n",
      "Train: Epoch #9, loss=1.092, accuracy=0.423, elapsed=3.9 sec\n",
      "Val: Epoch #9, loss=0.143, accuracy=0.396, elapsed=4.1 sec\n",
      "Train: Epoch #10, loss=1.092, accuracy=0.423, elapsed=3.9 sec\n",
      "Val: Epoch #10, loss=0.143, accuracy=0.396, elapsed=4.0 sec\n",
      "Train: Epoch #11, loss=1.092, accuracy=0.423, elapsed=3.9 sec\n",
      "Val: Epoch #11, loss=0.143, accuracy=0.396, elapsed=4.0 sec\n"
     ]
    }
   ],
   "source": [
    "def train_and_eval(model,train_iter, valid_iter, optimizer, loss_fn =nn.NLLLoss() , epochs=20,checkpoint_file_final='final.pt'):\n",
    "    #TRAIN!!!!\n",
    "    \n",
    "    for epoch_idx in range(epochs):\n",
    "        model.train()\n",
    "        total_loss, num_correct = 0, 0\n",
    "        total_samples = 0\n",
    "        start_time = time.time()\n",
    "\n",
    "        for train_batch in train_iter:\n",
    "            X, y = train_batch.text.cuda(), train_batch.label.cuda()\n",
    "\n",
    "            # Forward pass\n",
    "            y_pred_log_proba = model(X)\n",
    "\n",
    "            # Backward pass\n",
    "            optimizer.zero_grad()\n",
    "            loss = loss_fn(y_pred_log_proba, y)\n",
    "            loss.backward()\n",
    "\n",
    "            # Weight updates\n",
    "            optimizer.step()\n",
    "\n",
    "            # Calculate accuracy\n",
    "            total_loss += loss.item()\n",
    "            y_pred = torch.argmax(y_pred_log_proba, dim=1)\n",
    "            num_correct += torch.sum(y_pred == y).float().item()\n",
    "            total_samples+= len(train_batch) \n",
    "\n",
    "                \n",
    "        print(f\"Train: Epoch #{epoch_idx}, loss={total_loss /(len(train_iter)):.3f}, accuracy={num_correct /(total_samples):.3f}, elapsed={time.time()-start_time:.1f} sec\")\n",
    "        \n",
    "        total_loss, num_correct = 0, 0\n",
    "        total_samples = 0\n",
    "        model.eval()\n",
    "        with torch.no_grad():\n",
    "            for val_batch in valid_iter:\n",
    "                X, y = val_batch.text.cuda(), val_batch.label.cuda()\n",
    "                y = torch.autograd.Variable(y).long()\n",
    "\n",
    "                y_pred_log_proba = model(X)\n",
    "                loss = loss_fn(y_pred_log_proba, y)\n",
    "                total_loss += loss.item()\n",
    "                y_pred = torch.argmax(y_pred_log_proba, dim=1)\n",
    "                num_correct += torch.sum(y_pred == y).float().item()\n",
    "                total_samples+= len(train_batch)\n",
    "\n",
    "        print(f\"Val: Epoch #{epoch_idx}, loss={total_loss /(len(train_iter)):.3f}, accuracy={num_correct /(total_samples):.3f}, elapsed={time.time()-start_time:.1f} sec\")\n",
    "    #return total_epoch_loss/len(val_iter), total_epoch_acc/len(val_iter)\n",
    "        \n",
    "        \n",
    "        \n",
    "        \n",
    "        \n",
    "        \n",
    "def clip_gradient(model, clip_value):\n",
    "    params = list(filter(lambda p: p.grad is not None, model.parameters()))\n",
    "    for p in params:\n",
    "        p.grad.data.clamp_(-clip_value, clip_value)\n",
    "\n",
    "        \n",
    "\n",
    "        \n",
    "loss_fn = nn.NLLLoss()\n",
    "optimizer = torch.optim.Adam(model.parameters(), lr=learning_rate)\n",
    "train_and_eval(attnModel.cuda(),train_iter, valid_iter, optimizer, loss_fn =loss_fn , epochs=20,checkpoint_file_final='final.pt')"
   ]
  },
  {
   "cell_type": "code",
   "execution_count": 8,
   "metadata": {},
   "outputs": [],
   "source": [
    "from project.Trainer import train,evaluate_model"
   ]
  },
  {
   "cell_type": "code",
   "execution_count": 33,
   "metadata": {},
   "outputs": [],
   "source": [
    "#not to run\n",
    "#####evaluate_model(model, nn.NLLLoss(), dl_valid, max_epochs=EPOCHS,batch_size=BATCH_SIZE)"
   ]
  },
  {
   "cell_type": "markdown",
   "metadata": {},
   "source": [
    "*Training the baseline model*"
   ]
  },
  {
   "cell_type": "code",
   "execution_count": 32,
   "metadata": {},
   "outputs": [
    {
     "name": "stdout",
     "output_type": "stream",
     "text": [
      "Epoch #0, loss=1.055, accuracy=0.412, elapsed=2.8 sec\n",
      "Epoch #1, loss=1.048, accuracy=0.420, elapsed=2.8 sec\n",
      "Epoch #2, loss=1.049, accuracy=0.415, elapsed=2.8 sec\n",
      "Epoch #3, loss=1.045, accuracy=0.422, elapsed=2.8 sec\n",
      "Epoch #4, loss=1.045, accuracy=0.430, elapsed=2.8 sec\n",
      "Epoch #5, loss=0.988, accuracy=0.511, elapsed=2.8 sec\n",
      "Epoch #6, loss=0.865, accuracy=0.628, elapsed=2.8 sec\n",
      "Epoch #7, loss=0.821, accuracy=0.647, elapsed=2.8 sec\n",
      "Epoch #8, loss=0.802, accuracy=0.660, elapsed=2.8 sec\n",
      "Epoch #9, loss=0.789, accuracy=0.666, elapsed=2.8 sec\n",
      "Epoch #10, loss=0.788, accuracy=0.667, elapsed=2.8 sec\n",
      "Epoch #11, loss=0.771, accuracy=0.673, elapsed=2.8 sec\n",
      "Epoch #12, loss=0.754, accuracy=0.678, elapsed=2.8 sec\n",
      "Epoch #13, loss=0.746, accuracy=0.680, elapsed=2.8 sec\n",
      "Epoch #14, loss=0.741, accuracy=0.683, elapsed=2.8 sec\n",
      "Epoch #15, loss=0.737, accuracy=0.686, elapsed=2.8 sec\n",
      "Epoch #16, loss=0.718, accuracy=0.693, elapsed=2.8 sec\n",
      "Epoch #17, loss=0.710, accuracy=0.698, elapsed=2.8 sec\n",
      "Epoch #18, loss=0.705, accuracy=0.695, elapsed=2.8 sec\n",
      "Epoch #19, loss=0.692, accuracy=0.702, elapsed=2.8 sec\n"
     ]
    }
   ],
   "source": [
    "optimizer = torch.optim.Adam(model.parameters(), lr=learning_rate)\n",
    "loss_fn = nn.NLLLoss()\n",
    "# Train, unless final checkpoint is found\n",
    "checkpoint_file_final = f'{checkpoint}_final.pt'\n",
    "if os.path.isfile(checkpoint_file_final):\n",
    "    print(f'*** Loading final checkpoint file {checkpoint_file_final} (not training)')\n",
    "    saved_state = torch.load(checkpoint_file_final, map_location=device)\n",
    "    model.load_state_dict(saved_state['model_state'])\n",
    "else:\n",
    "    try:\n",
    "        #RNN_train_loss_arr, RNN_train_acc_arr, RNN_val_loss_arr, RNN_val_acc_arr = \n",
    "        train(model, optimizer, loss_fn, dl_train, max_epochs=EPOCHS,batch_size=BATCH_SIZE)\n",
    "\n",
    "    except KeyboardInterrupt as e:\n",
    "        print('\\n *** Training interrupted by user')\n"
   ]
  },
  {
   "cell_type": "markdown",
   "metadata": {},
   "source": [
    "*Training the model with attention*"
   ]
  },
  {
   "cell_type": "code",
   "execution_count": 33,
   "metadata": {},
   "outputs": [
    {
     "name": "stdout",
     "output_type": "stream",
     "text": [
      "Epoch #0, loss=1.516, accuracy=0.324, elapsed=3.1 sec\n",
      "Epoch #1, loss=1.342, accuracy=0.415, elapsed=3.1 sec\n",
      "Epoch #2, loss=1.275, accuracy=0.443, elapsed=3.0 sec\n",
      "Epoch #3, loss=1.238, accuracy=0.464, elapsed=3.0 sec\n",
      "Epoch #4, loss=1.222, accuracy=0.468, elapsed=3.0 sec\n",
      "Epoch #5, loss=1.192, accuracy=0.480, elapsed=3.0 sec\n",
      "Epoch #6, loss=1.177, accuracy=0.487, elapsed=3.0 sec\n",
      "Epoch #7, loss=1.165, accuracy=0.503, elapsed=3.0 sec\n",
      "Epoch #8, loss=1.158, accuracy=0.501, elapsed=3.1 sec\n",
      "Epoch #9, loss=1.126, accuracy=0.521, elapsed=3.1 sec\n",
      "Epoch #10, loss=1.111, accuracy=0.523, elapsed=3.1 sec\n",
      "Epoch #11, loss=1.082, accuracy=0.541, elapsed=3.0 sec\n",
      "Epoch #12, loss=1.065, accuracy=0.547, elapsed=3.1 sec\n",
      "Epoch #13, loss=1.057, accuracy=0.551, elapsed=3.1 sec\n",
      "Epoch #14, loss=1.040, accuracy=0.558, elapsed=3.1 sec\n",
      "Epoch #15, loss=1.017, accuracy=0.569, elapsed=3.1 sec\n",
      "Epoch #16, loss=0.993, accuracy=0.584, elapsed=3.0 sec\n",
      "Epoch #17, loss=0.970, accuracy=0.598, elapsed=3.0 sec\n",
      "Epoch #18, loss=0.938, accuracy=0.609, elapsed=3.0 sec\n",
      "Epoch #19, loss=0.910, accuracy=0.626, elapsed=3.0 sec\n"
     ]
    }
   ],
   "source": [
    "optimizer = optim.Adam(attnModel.parameters(), lr=learning_rate)\n",
    "loss_fn = nn.NLLLoss()\n",
    "# Train, unless final checkpoint is found\n",
    "checkpoint_file_final = f'{checkpoint_attn}_final.pt'\n",
    "if os.path.isfile(checkpoint_file_final):\n",
    "    print(f'*** Loading final checkpoint file {checkpoint_file_final} (not training)')\n",
    "    saved_state = torch.load(checkpoint_file_final, map_location=device)\n",
    "    attnModel.load_state_dict(saved_state['model_state'])\n",
    "else:\n",
    "    try:\n",
    "        #RNN_train_loss_arr, RNN_train_acc_arr, RNN_val_loss_arr, RNN_val_acc_arr = \n",
    "        train(attnModel, optimizer, loss_fn, dl_train, max_epochs=EPOCHS,batch_size=BATCH_SIZE)\n",
    "\n",
    "    except KeyboardInterrupt as e:\n",
    "        print('\\n *** Training interrupted by user')"
   ]
  },
  {
   "cell_type": "markdown",
   "metadata": {},
   "source": [
    "## Spectrally-Normalized Wasserstein GANs"
   ]
  },
  {
   "cell_type": "markdown",
   "metadata": {},
   "source": [
    "In HW3 we implemented a simple GANs from scratch, using an approach very similar to the original GAN paper. However, the results left much to be desired and we discovered first-hand how hard it is to train GANs due to their inherent instability.\n",
    "\n",
    "One of the prevailing approaches for improving training stability for GANs is to use a technique called [Spectral Normalization](https://arxiv.org/pdf/1802.05957.pdf) to normalize the largest singular value of a weight matrix so that it equals 1.\n",
    "This approach is generally applied to the discriminator's weights in order to stabilize training. The resulting model is sometimes referred to as a SN-GAN.\n",
    "See Appendix A in the linked paper for the exact algorithm. You can also use pytorch's `spectral_norm`.\n",
    "\n",
    "Another very common improvement to the vanilla GAN is known a [Wasserstein GAN](https://arxiv.org/pdf/1701.07875.pdf) (WGAN). It uses a simple modification to the loss function, with strong theoretical justifications based on the Wasserstein (earth-mover's) distance.\n",
    "See also [here](https://developers.google.com/machine-learning/gan/loss) for a brief explanation of this loss function.\n",
    "\n",
    "One problem with generative models for images is that it's difficult to objectively assess the quality of the resulting images.\n",
    "To also obtain a quantitative score for the images generated by each model,\n",
    "we'll use the [Inception Score](https://arxiv.org/pdf/1606.03498.pdf).\n",
    "This uses a pre-trained Inception CNN model on the generated images and computes a score based on the predicted probability for each class.\n",
    "Although not a perfect proxy for subjective quality, it's commonly used a way to compare generative models.\n",
    "You can use an implementation of this score that you find online, e.g. [this one](https://github.com/sbarratt/inception-score-pytorch) or implement it yourself.\n",
    "\n",
    "Based on the linked papers, add Spectral Normalization and the Wassertein loss to your GAN from HW3.\n",
    "Compare between:\n",
    "- The baseline model (vanilla GAN)\n",
    "- SN-GAN (vanilla + Spectral Normalization)\n",
    "- WGAN (using Wasserstein Loss)\n",
    "- Optional: SN+WGAN, i.e. a combined model using both modifications.\n",
    "\n",
    "As a dataset, you can use [LFW](http://vis-www.cs.umass.edu/lfw/) as in HW3 or [CelebA](http://mmlab.ie.cuhk.edu.hk/projects/CelebA.html), or even choose a custom dataset (note that there's a dataloder for CelebA in `torchvision`). \n",
    "\n",
    "Your results should include:\n",
    "- Everything written in the **Guidelines** above.\n",
    "- A comparative analysis between the baseline and the other models. Compare:\n",
    "  - Subjective quality (show multiple generated images from each model)\n",
    "  - Inception score (can use a subset of the data).\n",
    "- You should show substantially improved subjective visual results with these techniques."
   ]
  },
  {
   "cell_type": "markdown",
   "metadata": {},
   "source": [
    "## Implementation"
   ]
  },
  {
   "cell_type": "markdown",
   "metadata": {},
   "source": [
    "**TODO**: This is where you should write your explanations and implement the code to display the results.\n",
    "See guidelines about what to include in this section."
   ]
  }
 ],
 "metadata": {
  "kernelspec": {
   "display_name": "Python 3",
   "language": "python",
   "name": "python3"
  },
  "language_info": {
   "codemirror_mode": {
    "name": "ipython",
    "version": 3
   },
   "file_extension": ".py",
   "mimetype": "text/x-python",
   "name": "python",
   "nbconvert_exporter": "python",
   "pygments_lexer": "ipython3",
   "version": "3.8.6"
  }
 },
 "nbformat": 4,
 "nbformat_minor": 4
}
